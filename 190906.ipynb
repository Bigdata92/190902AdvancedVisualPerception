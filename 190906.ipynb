{
  "nbformat": 4,
  "nbformat_minor": 0,
  "metadata": {
    "colab": {
      "name": "190906.ipynb",
      "version": "0.3.2",
      "provenance": [],
      "include_colab_link": true
    },
    "kernelspec": {
      "name": "python3",
      "display_name": "Python 3"
    }
  },
  "cells": [
    {
      "cell_type": "markdown",
      "metadata": {
        "id": "view-in-github",
        "colab_type": "text"
      },
      "source": [
        "<a href=\"https://colab.research.google.com/github/Bigdata92/190902AdvancedVisualPerception/blob/master/190906.ipynb\" target=\"_parent\"><img src=\"https://colab.research.google.com/assets/colab-badge.svg\" alt=\"Open In Colab\"/></a>"
      ]
    },
    {
      "cell_type": "markdown",
      "metadata": {
        "id": "kOUZq7MaD9fT",
        "colab_type": "text"
      },
      "source": [
        "### Precise Detection in Densely Packed Scenes 연구실 필요 논문\n",
        "### state-of-the-art = 최첨단, proximity = 근접,  \n",
        "### \n",
        "\n",
        "\n",
        "\n",
        "==============================================\n",
        "\n",
        "### FDS : Fraud Detection System \n",
        "### aihub - 국가 ai cite\n",
        "### 머신러닝 필요한것 - 빅데이터, 하드웨어 발전, 알고리즘 고도화 \n",
        "### AI(Artificial Intelligence) > ML(Machine Learning) > DL(Deep Learning)\n",
        "### 딥러닝 - 시계열 문제 잘품(주식) (이유 - 복잡도 높아서)\n",
        "### Jaccard index = 두 집합 사이의 유사도를 측정하는 방법\n",
        "### J(A,B)=\\frac{|A \\bigcup B|}{|A B|}={{|A\\cap B|} \\over {|A|+|B|-|A\\cap B|}}.}\n",
        "### 컴퓨터 - 숫자 저장, 기록 잘함\n",
        "### machine 배운다 - 연산을 잘한다"
      ]
    }
  ]
}