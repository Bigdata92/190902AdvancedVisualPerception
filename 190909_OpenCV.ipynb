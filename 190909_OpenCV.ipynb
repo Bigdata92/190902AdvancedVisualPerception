{
  "nbformat": 4,
  "nbformat_minor": 0,
  "metadata": {
    "colab": {
      "name": "190909_OpenCV.ipynb",
      "version": "0.3.2",
      "provenance": [],
      "include_colab_link": true
    },
    "kernelspec": {
      "name": "python3",
      "display_name": "Python 3"
    }
  },
  "cells": [
    {
      "cell_type": "markdown",
      "metadata": {
        "id": "view-in-github",
        "colab_type": "text"
      },
      "source": [
        "<a href=\"https://colab.research.google.com/github/Bigdata92/190902AdvancedVisualPerception/blob/master/190909_OpenCV.ipynb\" target=\"_parent\"><img src=\"https://colab.research.google.com/assets/colab-badge.svg\" alt=\"Open In Colab\"/></a>"
      ]
    },
    {
      "cell_type": "markdown",
      "metadata": {
        "id": "gZ6VMqjSfobm",
        "colab_type": "text"
      },
      "source": [
        "##### OpenCV : Computer Vision, GPU 사용 X\n",
        "##### C++: 최고의 속도로 연산하기 위해, 전문적으로 할 때 \n",
        "##### python : library 위주\n",
        "##### Editor : PyCharm 편리성\n",
        "##### 대표적인 install method 1. Anaconda <- conda = package manager(용량 큼), 2. virtual env(pip) \n",
        "##### dir : folder list\n",
        "##### python --version,pip --version, pip list, pip install virtualenv, virtualenv --version\n",
        "##### virtualenv '폴더이름' 하면 깔림\n",
        "##### CV\\Scripts\\activate (가상화), deactivate(나감), pip install opencv-python, pip install matplotlib\n",
        "##### import cv2, print(cv2.__version), exit()"
      ]
    },
    {
      "cell_type": "code",
      "metadata": {
        "id": "HWoaw7bFfDVf",
        "colab_type": "code",
        "colab": {}
      },
      "source": [
        ""
      ],
      "execution_count": 0,
      "outputs": []
    }
  ]
}