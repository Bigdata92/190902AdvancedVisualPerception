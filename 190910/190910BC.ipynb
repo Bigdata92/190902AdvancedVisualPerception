{
  "nbformat": 4,
  "nbformat_minor": 0,
  "metadata": {
    "colab": {
      "name": "190910BC.ipynb",
      "version": "0.3.2",
      "provenance": [],
      "include_colab_link": true
    },
    "kernelspec": {
      "name": "python3",
      "display_name": "Python 3"
    }
  },
  "cells": [
    {
      "cell_type": "markdown",
      "metadata": {
        "id": "view-in-github",
        "colab_type": "text"
      },
      "source": [
        "<a href=\"https://colab.research.google.com/github/Bigdata92/190902AdvancedVisualPerception/blob/master/190910BC.ipynb\" target=\"_parent\"><img src=\"https://colab.research.google.com/assets/colab-badge.svg\" alt=\"Open In Colab\"/></a>"
      ]
    },
    {
      "cell_type": "markdown",
      "metadata": {
        "id": "1BMw4AFFlqt9",
        "colab_type": "text"
      },
      "source": [
        "digital : 원본 = copy\n",
        "BlockChain : 신뢰를 만드는 기술\n",
        "에스크로 제도 \n",
        "토큰 이코노미로 진화 \n",
        "\n",
        "commit 사용X, confirmed 사용"
      ]
    }
  ]
}
