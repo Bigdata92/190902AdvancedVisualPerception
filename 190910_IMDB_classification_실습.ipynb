{
  "nbformat": 4,
  "nbformat_minor": 0,
  "metadata": {
    "colab": {
      "name": "190910_IMDB_classification_실습.ipynb",
      "version": "0.3.2",
      "provenance": [],
      "collapsed_sections": [],
      "include_colab_link": true
    },
    "kernelspec": {
      "name": "python2",
      "display_name": "Python 2"
    }
  },
  "cells": [
    {
      "cell_type": "markdown",
      "metadata": {
        "id": "view-in-github",
        "colab_type": "text"
      },
      "source": [
        "<a href=\"https://colab.research.google.com/github/Bigdata92/190902AdvancedVisualPerception/blob/master/190910_IMDB_classification_%EC%8B%A4%EC%8A%B5.ipynb\" target=\"_parent\"><img src=\"https://colab.research.google.com/assets/colab-badge.svg\" alt=\"Open In Colab\"/></a>"
      ]
    },
    {
      "cell_type": "code",
      "metadata": {
        "id": "kDW8jZzuOdCR",
        "colab_type": "code",
        "outputId": "bbbcf839-8272-4b80-c7e5-17fd7b3f6c77",
        "colab": {
          "base_uri": "https://localhost:8080/",
          "height": 35
        }
      },
      "source": [
        "import keras\n",
        "import numpy as np\n",
        "keras.__version__"
      ],
      "execution_count": 35,
      "outputs": [
        {
          "output_type": "execute_result",
          "data": {
            "text/plain": [
              "'2.2.4'"
            ]
          },
          "metadata": {
            "tags": []
          },
          "execution_count": 35
        }
      ]
    },
    {
      "cell_type": "code",
      "metadata": {
        "id": "YxvuZRiV9F31",
        "colab_type": "code",
        "colab": {
          "base_uri": "https://localhost:8080/",
          "height": 35
        },
        "outputId": "ee882c8d-c4cb-458d-d77e-fa1ee42202c0"
      },
      "source": [
        "!pip install numpy==1.16.1"
      ],
      "execution_count": 36,
      "outputs": [
        {
          "output_type": "stream",
          "text": [
            "Requirement already satisfied: numpy==1.16.1 in /usr/local/lib/python2.7/dist-packages (1.16.1)\n"
          ],
          "name": "stdout"
        }
      ]
    },
    {
      "cell_type": "code",
      "metadata": {
        "id": "TWYvsGTfOdtB",
        "colab_type": "code",
        "colab": {}
      },
      "source": [
        "from keras.datasets import imdb\n",
        "\n",
        "(train_data, train_labels), (test_data, test_labels) = imdb.load_data(num_words=10000)"
      ],
      "execution_count": 0,
      "outputs": []
    },
    {
      "cell_type": "code",
      "metadata": {
        "id": "XV8q3A7FE1EU",
        "colab_type": "code",
        "colab": {
          "base_uri": "https://localhost:8080/",
          "height": 55
        },
        "outputId": "40fcc1d6-ab14-4679-f013-0bf492624472"
      },
      "source": [
        "print(train_data[0])"
      ],
      "execution_count": 38,
      "outputs": [
        {
          "output_type": "stream",
          "text": [
            "[1, 14, 22, 16, 43, 530, 973, 1622, 1385, 65, 458, 4468, 66, 3941, 4, 173, 36, 256, 5, 25, 100, 43, 838, 112, 50, 670, 2, 9, 35, 480, 284, 5, 150, 4, 172, 112, 167, 2, 336, 385, 39, 4, 172, 4536, 1111, 17, 546, 38, 13, 447, 4, 192, 50, 16, 6, 147, 2025, 19, 14, 22, 4, 1920, 4613, 469, 4, 22, 71, 87, 12, 16, 43, 530, 38, 76, 15, 13, 1247, 4, 22, 17, 515, 17, 12, 16, 626, 18, 2, 5, 62, 386, 12, 8, 316, 8, 106, 5, 4, 2223, 5244, 16, 480, 66, 3785, 33, 4, 130, 12, 16, 38, 619, 5, 25, 124, 51, 36, 135, 48, 25, 1415, 33, 6, 22, 12, 215, 28, 77, 52, 5, 14, 407, 16, 82, 2, 8, 4, 107, 117, 5952, 15, 256, 4, 2, 7, 3766, 5, 723, 36, 71, 43, 530, 476, 26, 400, 317, 46, 7, 4, 2, 1029, 13, 104, 88, 4, 381, 15, 297, 98, 32, 2071, 56, 26, 141, 6, 194, 7486, 18, 4, 226, 22, 21, 134, 476, 26, 480, 5, 144, 30, 5535, 18, 51, 36, 28, 224, 92, 25, 104, 4, 226, 65, 16, 38, 1334, 88, 12, 16, 283, 5, 16, 4472, 113, 103, 32, 15, 16, 5345, 19, 178, 32]\n"
          ],
          "name": "stdout"
        }
      ]
    },
    {
      "cell_type": "code",
      "metadata": {
        "id": "8dFnDkLQIb_R",
        "colab_type": "code",
        "colab": {}
      },
      "source": [
        "def vectorize_sequences(sequences, dimension=10000):\n",
        "    # 크기가 (len(sequences), dimension))이고 모든 원소가 0인 행렬을 만듭니다\n",
        "    results = np.zeros((len(sequences), dimension))\n",
        "    print results.shape\n",
        "    for i, sequence in enumerate(sequences):\n",
        "        results[i, sequence] = 1.  # results[i]에서 특정 인덱스의 위치를 1로 만듭니다\n",
        "    return results"
      ],
      "execution_count": 0,
      "outputs": []
    },
    {
      "cell_type": "code",
      "metadata": {
        "id": "L_hzLbHk9ZDM",
        "colab_type": "code",
        "outputId": "910e936b-1f8c-42b8-9dda-267c0f68863b",
        "colab": {
          "base_uri": "https://localhost:8080/",
          "height": 53
        }
      },
      "source": [
        "\n",
        "# 훈련 데이터를 벡터로 변환합니다\n",
        "x_train = vectorize_sequences(train_data)\n",
        "# 테스트 데이터를 벡터로 변환합니다\n",
        "x_test = vectorize_sequences(test_data)"
      ],
      "execution_count": 40,
      "outputs": [
        {
          "output_type": "stream",
          "text": [
            "(25000, 10000)\n",
            "(25000, 10000)\n"
          ],
          "name": "stdout"
        }
      ]
    },
    {
      "cell_type": "code",
      "metadata": {
        "id": "nbN6jpTY9mbT",
        "colab_type": "code",
        "colab": {}
      },
      "source": [
        "# 레이블을 벡터로 바꿉니다\n",
        "y_train = np.asarray(train_labels).astype('float32')\n",
        "y_test = np.asarray(test_labels).astype('float32')"
      ],
      "execution_count": 0,
      "outputs": []
    },
    {
      "cell_type": "code",
      "metadata": {
        "id": "gdYuaiGw9ylT",
        "colab_type": "code",
        "colab": {}
      },
      "source": [
        "# Data split\n",
        "x_val = x_train[: 10000]\n",
        "partial_x_train = x_train[10000:]\n",
        "\n",
        "y_val = y_train[:10000]\n",
        "partial_y_train = y_train[10000:]"
      ],
      "execution_count": 0,
      "outputs": []
    },
    {
      "cell_type": "code",
      "metadata": {
        "id": "KiWTioFD9Y5E",
        "colab_type": "code",
        "colab": {}
      },
      "source": [
        "word_index = imdb.get_word_index()\n",
        "reverse_word_index = dict([(value, key) for (key, value) in word_index.items()])\n",
        "decoded_review = ' '.join([reverse_word_index.get(i - 3, '?') for i in train_data[0]])"
      ],
      "execution_count": 0,
      "outputs": []
    },
    {
      "cell_type": "code",
      "metadata": {
        "id": "HXdH_HhdI3Zr",
        "colab_type": "code",
        "outputId": "9f91eb74-5d8c-429d-b9cd-a19ac9b641f5",
        "colab": {
          "base_uri": "https://localhost:8080/",
          "height": 55
        }
      },
      "source": [
        "decoded_review"
      ],
      "execution_count": 44,
      "outputs": [
        {
          "output_type": "execute_result",
          "data": {
            "text/plain": [
              "u\"? this film was just brilliant casting location scenery story direction everyone's really suited the part they played and you could just imagine being there robert ? is an amazing actor and now the same being director ? father came from the same scottish island as myself so i loved the fact there was a real connection with this film the witty remarks throughout the film were great it was just brilliant so much that i bought the film as soon as it was released for ? and would recommend it to everyone to watch and the fly fishing was amazing really cried at the end it was so sad and you know what they say if you cry at a film it must have been good and this definitely was also ? to the two little boy's that played the ? of norman and paul they were just brilliant children are often left out of the ? list i think because the stars that play them all grown up are such a big profile for the whole film but these children are amazing and should be praised for what they have done don't you think the whole story was so lovely because it was true and was someone's life after all that was shared with us all\""
            ]
          },
          "metadata": {
            "tags": []
          },
          "execution_count": 44
        }
      ]
    },
    {
      "cell_type": "code",
      "metadata": {
        "id": "md5alZT2JKws",
        "colab_type": "code",
        "colab": {}
      },
      "source": [
        "# Build Model\n",
        "\n",
        "from keras import models\n",
        "from keras import layers\n",
        "\n",
        "model = models.Sequential()\n",
        "model.add(layers.Dense(16, activation = 'relu', input_shape = (10000,)))\n",
        "model.add(layers.Dense(16, activation = 'relu'))\n",
        "model.add(layers.Dense(1, activation = 'sigmoid'))\n",
        "\n",
        "\n"
      ],
      "execution_count": 0,
      "outputs": []
    },
    {
      "cell_type": "code",
      "metadata": {
        "id": "maggx61dJQLy",
        "colab_type": "code",
        "colab": {}
      },
      "source": [
        "# Model Compile\n",
        "model.compile(optimizer = 'rmsprop', loss = 'binary_crossentropy', metrics = ['accuracy'])\n"
      ],
      "execution_count": 0,
      "outputs": []
    },
    {
      "cell_type": "code",
      "metadata": {
        "id": "ns8Vg8VVJnji",
        "colab_type": "code",
        "outputId": "c0833181-1768-4e63-aa93-74d2e95847f8",
        "colab": {
          "base_uri": "https://localhost:8080/",
          "height": 755
        }
      },
      "source": [
        "# Model Training and save training history\n",
        "history = model.fit(partial_x_train, partial_y_train, epochs = 20, batch_size = 512, validation_data =(x_val, y_val))\n"
      ],
      "execution_count": 63,
      "outputs": [
        {
          "output_type": "stream",
          "text": [
            "Train on 15000 samples, validate on 10000 samples\n",
            "Epoch 1/20\n",
            "15000/15000 [==============================] - 3s 209us/step - loss: 0.5042 - acc: 0.7889 - val_loss: 0.3776 - val_acc: 0.8704\n",
            "Epoch 2/20\n",
            "15000/15000 [==============================] - 2s 156us/step - loss: 0.2991 - acc: 0.9047 - val_loss: 0.3001 - val_acc: 0.8899\n",
            "Epoch 3/20\n",
            "15000/15000 [==============================] - 2s 156us/step - loss: 0.2174 - acc: 0.9283 - val_loss: 0.3079 - val_acc: 0.8717\n",
            "Epoch 4/20\n",
            "15000/15000 [==============================] - 2s 155us/step - loss: 0.1748 - acc: 0.9437 - val_loss: 0.2821 - val_acc: 0.8848\n",
            "Epoch 5/20\n",
            "15000/15000 [==============================] - 2s 155us/step - loss: 0.1422 - acc: 0.9542 - val_loss: 0.2856 - val_acc: 0.8858\n",
            "Epoch 6/20\n",
            "15000/15000 [==============================] - 2s 156us/step - loss: 0.1148 - acc: 0.9652 - val_loss: 0.3148 - val_acc: 0.8776\n",
            "Epoch 7/20\n",
            "15000/15000 [==============================] - 2s 157us/step - loss: 0.0979 - acc: 0.9708 - val_loss: 0.3130 - val_acc: 0.8840\n",
            "Epoch 8/20\n",
            "15000/15000 [==============================] - 2s 154us/step - loss: 0.0805 - acc: 0.9767 - val_loss: 0.3870 - val_acc: 0.8654\n",
            "Epoch 9/20\n",
            "15000/15000 [==============================] - 2s 156us/step - loss: 0.0661 - acc: 0.9821 - val_loss: 0.3641 - val_acc: 0.8774\n",
            "Epoch 10/20\n",
            "15000/15000 [==============================] - 2s 155us/step - loss: 0.0564 - acc: 0.9847 - val_loss: 0.3849 - val_acc: 0.8794\n",
            "Epoch 11/20\n",
            "15000/15000 [==============================] - 2s 155us/step - loss: 0.0427 - acc: 0.9904 - val_loss: 0.4131 - val_acc: 0.8773\n",
            "Epoch 12/20\n",
            "15000/15000 [==============================] - 2s 156us/step - loss: 0.0376 - acc: 0.9922 - val_loss: 0.4612 - val_acc: 0.8679\n",
            "Epoch 13/20\n",
            "15000/15000 [==============================] - 2s 154us/step - loss: 0.0299 - acc: 0.9929 - val_loss: 0.4712 - val_acc: 0.8740\n",
            "Epoch 14/20\n",
            "15000/15000 [==============================] - 2s 154us/step - loss: 0.0248 - acc: 0.9943 - val_loss: 0.5038 - val_acc: 0.8724\n",
            "Epoch 15/20\n",
            "15000/15000 [==============================] - 2s 153us/step - loss: 0.0192 - acc: 0.9967 - val_loss: 0.5309 - val_acc: 0.8717\n",
            "Epoch 16/20\n",
            "15000/15000 [==============================] - 2s 154us/step - loss: 0.0168 - acc: 0.9969 - val_loss: 0.5645 - val_acc: 0.8683\n",
            "Epoch 17/20\n",
            "15000/15000 [==============================] - 2s 155us/step - loss: 0.0123 - acc: 0.9985 - val_loss: 0.5963 - val_acc: 0.8673\n",
            "Epoch 18/20\n",
            "15000/15000 [==============================] - 2s 155us/step - loss: 0.0115 - acc: 0.9977 - val_loss: 0.6275 - val_acc: 0.8674\n",
            "Epoch 19/20\n",
            "15000/15000 [==============================] - 2s 155us/step - loss: 0.0061 - acc: 0.9997 - val_loss: 0.7506 - val_acc: 0.8516\n",
            "Epoch 20/20\n",
            "15000/15000 [==============================] - 2s 154us/step - loss: 0.0082 - acc: 0.9987 - val_loss: 0.6910 - val_acc: 0.8661\n"
          ],
          "name": "stdout"
        }
      ]
    },
    {
      "cell_type": "code",
      "metadata": {
        "id": "1ILOMEWAJpE6",
        "colab_type": "code",
        "outputId": "7dfdcdcd-184b-45a7-b557-17fdf53819ff",
        "colab": {
          "base_uri": "https://localhost:8080/",
          "height": 35
        }
      },
      "source": [
        "history_dict = history.history\n",
        "history_dict.keys()"
      ],
      "execution_count": 48,
      "outputs": [
        {
          "output_type": "execute_result",
          "data": {
            "text/plain": [
              "['acc', 'loss', 'val_acc', 'val_loss']"
            ]
          },
          "metadata": {
            "tags": []
          },
          "execution_count": 48
        }
      ]
    },
    {
      "cell_type": "code",
      "metadata": {
        "id": "8z9wfe3nJ31b",
        "colab_type": "code",
        "outputId": "ceda63ca-ad15-4d2a-b365-bdd68fbc7316",
        "colab": {
          "base_uri": "https://localhost:8080/",
          "height": 295
        }
      },
      "source": [
        "import matplotlib.pyplot as plt\n",
        "\n",
        "acc = history.history['acc'] # key 값을 넣어줌\n",
        "val_acc = history.history['val_acc']\n",
        "loss = history.history['loss']\n",
        "val_loss = history.history['val_loss']\n",
        "\n",
        "epochs = range(1, len(acc) + 1)\n",
        "\n",
        "# ‘bo’는 파란색 점을 의미합니다\n",
        "plt.plot(epochs, loss, 'bo', label='Training loss')\n",
        "# ‘b’는 파란색 실선을 의미합니다\n",
        "plt.plot(epochs, val_loss, 'b', label='Validation loss')\n",
        "plt.title('Training and validation loss')\n",
        "plt.xlabel('Epochs')\n",
        "plt.ylabel('Loss')\n",
        "plt.legend()\n",
        "\n",
        "plt.show()"
      ],
      "execution_count": 49,
      "outputs": [
        {
          "output_type": "display_data",
          "data": {
            "image/png": "[encoded data removed]",
            "text/plain": [
              "<Figure size 432x288 with 1 Axes>"
            ]
          },
          "metadata": {
            "tags": []
          }
        }
      ]
    },
    {
      "cell_type": "code",
      "metadata": {
        "id": "A6I6UvR5J6rC",
        "colab_type": "code",
        "outputId": "8ceddce4-8272-4ff1-d7b0-22fc3fb9b090",
        "colab": {
          "base_uri": "https://localhost:8080/",
          "height": 295
        }
      },
      "source": [
        "plt.clf()   # 그래프를 초기화합니다\n",
        "acc = history_dict['acc']\n",
        "val_acc = history_dict['val_acc']\n",
        "\n",
        "plt.plot(epochs, acc, 'bo', label='Training acc')\n",
        "plt.plot(epochs, val_acc, 'b', label='Validation acc')\n",
        "plt.title('Training and validation accuracy')\n",
        "plt.xlabel('Epochs')\n",
        "plt.ylabel('Accuracy')\n",
        "plt.legend()\n",
        "\n",
        "plt.show()"
      ],
      "execution_count": 50,
      "outputs": [
        {
          "output_type": "display_data",
          "data": {
            "image/png": "[encoded data removed]",
            "text/plain": [
              "<Figure size 432x288 with 1 Axes>"
            ]
          },
          "metadata": {
            "tags": []
          }
        }
      ]
    },
    {
      "cell_type": "code",
      "metadata": {
        "id": "DgD06sevKKbK",
        "colab_type": "code",
        "outputId": "3f5c8252-9390-4a7e-eda2-f2281f76951c",
        "colab": {
          "base_uri": "https://localhost:8080/",
          "height": 179
        }
      },
      "source": [
        "model = models.Sequential()\n",
        "model.add(layers.Dense(16, activation='relu', input_shape=(10000,)))\n",
        "model.add(layers.Dense(16, activation='relu'))\n",
        "model.add(layers.Dense(1, activation='sigmoid'))\n",
        "\n",
        "model.compile(optimizer='rmsprop',\n",
        "              loss='binary_crossentropy',\n",
        "              metrics=['accuracy'])\n",
        "\n",
        "model.fit(x_train, y_train, epochs=4, batch_size=512)"
      ],
      "execution_count": 51,
      "outputs": [
        {
          "output_type": "stream",
          "text": [
            "Epoch 1/4\n",
            "25000/25000 [==============================] - 3s 133us/step - loss: 0.4752 - acc: 0.8217\n",
            "Epoch 2/4\n",
            "25000/25000 [==============================] - 3s 115us/step - loss: 0.2659 - acc: 0.9098\n",
            "Epoch 3/4\n",
            "25000/25000 [==============================] - 3s 114us/step - loss: 0.1985 - acc: 0.9298\n",
            "Epoch 4/4\n",
            "25000/25000 [==============================] - 3s 112us/step - loss: 0.1677 - acc: 0.9403\n"
          ],
          "name": "stdout"
        },
        {
          "output_type": "execute_result",
          "data": {
            "text/plain": [
              "<keras.callbacks.History at 0x7f85c5393e10>"
            ]
          },
          "metadata": {
            "tags": []
          },
          "execution_count": 51
        }
      ]
    },
    {
      "cell_type": "code",
      "metadata": {
        "id": "ClvXN2qwLJXJ",
        "colab_type": "code",
        "colab": {}
      },
      "source": [
        "result = model.predict(x_test)"
      ],
      "execution_count": 0,
      "outputs": []
    },
    {
      "cell_type": "code",
      "metadata": {
        "id": "svnrqfTsAQdW",
        "colab_type": "code",
        "outputId": "5815e2ca-94d2-4e4a-a0c5-dc3c9c2505c6",
        "colab": {
          "base_uri": "https://localhost:8080/",
          "height": 143
        }
      },
      "source": [
        "result"
      ],
      "execution_count": 53,
      "outputs": [
        {
          "output_type": "execute_result",
          "data": {
            "text/plain": [
              "array([[0.13788217],\n",
              "       [0.9997002 ],\n",
              "       [0.28713247],\n",
              "       ...,\n",
              "       [0.06988791],\n",
              "       [0.04240662],\n",
              "       [0.47507212]], dtype=float32)"
            ]
          },
          "metadata": {
            "tags": []
          },
          "execution_count": 53
        }
      ]
    },
    {
      "cell_type": "code",
      "metadata": {
        "id": "i1pvSicWLKMo",
        "colab_type": "code",
        "colab": {}
      },
      "source": [
        "#  thresholding\n",
        "\n",
        "for i in range(len(result)):\n",
        "  if result[i] > 0.5:\n",
        "    result[i] = 1\n",
        "  else:\n",
        "    result[i] = 0\n",
        "  \n"
      ],
      "execution_count": 0,
      "outputs": []
    },
    {
      "cell_type": "code",
      "metadata": {
        "id": "wKguiRsM_t1n",
        "colab_type": "code",
        "outputId": "19814df1-09d8-48bf-d2c7-f39b58fdeb7e",
        "colab": {
          "base_uri": "https://localhost:8080/",
          "height": 143
        }
      },
      "source": [
        "result"
      ],
      "execution_count": 55,
      "outputs": [
        {
          "output_type": "execute_result",
          "data": {
            "text/plain": [
              "array([[0.],\n",
              "       [1.],\n",
              "       [0.],\n",
              "       ...,\n",
              "       [0.],\n",
              "       [0.],\n",
              "       [0.]], dtype=float32)"
            ]
          },
          "metadata": {
            "tags": []
          },
          "execution_count": 55
        }
      ]
    }
  ]
}