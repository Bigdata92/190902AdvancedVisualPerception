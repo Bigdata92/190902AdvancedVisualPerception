{
  "nbformat": 4,
  "nbformat_minor": 0,
  "metadata": {
    "colab": {
      "name": "190916PythonBasics",
      "version": "0.3.2",
      "provenance": [],
      "include_colab_link": true
    },
    "kernelspec": {
      "name": "python3",
      "display_name": "Python 3"
    }
  },
  "cells": [
    {
      "cell_type": "markdown",
      "metadata": {
        "id": "view-in-github",
        "colab_type": "text"
      },
      "source": [
        "<a href=\"https://colab.research.google.com/github/Bigdata92/190902AdvancedVisualPerception/blob/master/190916PythonBasics.ipynb\" target=\"_parent\"><img src=\"https://colab.research.google.com/assets/colab-badge.svg\" alt=\"Open In Colab\"/></a>"
      ]
    },
    {
      "cell_type": "code",
      "metadata": {
        "id": "w0rG46iPYBke",
        "colab_type": "code",
        "outputId": "34a588c2-7902-40c5-ae28-644bec506bcc",
        "colab": {
          "base_uri": "https://localhost:8080/",
          "height": 35
        }
      },
      "source": [
        "names = [\"Ben\", \"Chen\", \"Yapin\"]\n",
        "len(names) # 원소 개수 확인"
      ],
      "execution_count": 1,
      "outputs": [
        {
          "output_type": "execute_result",
          "data": {
            "text/plain": [
              "3"
            ]
          },
          "metadata": {
            "tags": []
          },
          "execution_count": 1
        }
      ]
    },
    {
      "cell_type": "code",
      "metadata": {
        "id": "Wiwz8ZPNYF79",
        "colab_type": "code",
        "outputId": "f13ee4e0-243d-435f-9788-53c5e98da851",
        "colab": {
          "base_uri": "https://localhost:8080/",
          "height": 71
        }
      },
      "source": [
        "for i in names:\n",
        "  print(i)"
      ],
      "execution_count": 2,
      "outputs": [
        {
          "output_type": "stream",
          "text": [
            "Ben\n",
            "Chen\n",
            "Yapin\n"
          ],
          "name": "stdout"
        }
      ]
    },
    {
      "cell_type": "code",
      "metadata": {
        "id": "Z2mbwOk-YNpB",
        "colab_type": "code",
        "outputId": "eb86c841-7ec7-4f5c-e64e-d58dc36d9992",
        "colab": {
          "base_uri": "https://localhost:8080/",
          "height": 35
        }
      },
      "source": [
        "\n",
        "names[-3]"
      ],
      "execution_count": 4,
      "outputs": [
        {
          "output_type": "execute_result",
          "data": {
            "text/plain": [
              "'Ben'"
            ]
          },
          "metadata": {
            "tags": []
          },
          "execution_count": 4
        }
      ]
    },
    {
      "cell_type": "code",
      "metadata": {
        "id": "W5JaJ9MWYP7A",
        "colab_type": "code",
        "colab": {}
      },
      "source": [
        "t = (23, 'abc', 4.56, (2,3), 'def')"
      ],
      "execution_count": 0,
      "outputs": []
    },
    {
      "cell_type": "code",
      "metadata": {
        "id": "6UymQNBZYYHy",
        "colab_type": "code",
        "colab": {
          "base_uri": "https://localhost:8080/",
          "height": 35
        },
        "outputId": "2ef7a56b-53e2-4cf0-d3c4-47b6eb332c4b"
      },
      "source": [
        "t[1]"
      ],
      "execution_count": 7,
      "outputs": [
        {
          "output_type": "execute_result",
          "data": {
            "text/plain": [
              "'abc'"
            ]
          },
          "metadata": {
            "tags": []
          },
          "execution_count": 7
        }
      ]
    },
    {
      "cell_type": "code",
      "metadata": {
        "id": "soHLfFQwlb4E",
        "colab_type": "code",
        "colab": {
          "base_uri": "https://localhost:8080/",
          "height": 35
        },
        "outputId": "62e1d22e-7977-4f63-e4c7-34baf9136c1b"
      },
      "source": [
        "li = ['a', 'b', 'c', 'd', 'b']\n",
        "li.index('b')"
      ],
      "execution_count": 9,
      "outputs": [
        {
          "output_type": "execute_result",
          "data": {
            "text/plain": [
              "2"
            ]
          },
          "metadata": {
            "tags": []
          },
          "execution_count": 9
        }
      ]
    },
    {
      "cell_type": "code",
      "metadata": {
        "id": "9YoLoA4FmG0m",
        "colab_type": "code",
        "colab": {
          "base_uri": "https://localhost:8080/",
          "height": 35
        },
        "outputId": "b62520b6-c8e1-4181-abf2-7e4a96b8ce06"
      },
      "source": [
        "li.count('b')"
      ],
      "execution_count": 13,
      "outputs": [
        {
          "output_type": "execute_result",
          "data": {
            "text/plain": [
              "2"
            ]
          },
          "metadata": {
            "tags": []
          },
          "execution_count": 13
        }
      ]
    },
    {
      "cell_type": "code",
      "metadata": {
        "id": "QZ4SIzeymMd1",
        "colab_type": "code",
        "colab": {}
      },
      "source": [
        "li.remove('c')"
      ],
      "execution_count": 0,
      "outputs": []
    },
    {
      "cell_type": "code",
      "metadata": {
        "id": "64fCxDt6mQD-",
        "colab_type": "code",
        "colab": {
          "base_uri": "https://localhost:8080/",
          "height": 35
        },
        "outputId": "51784fe2-f5e5-44c7-fb7e-c098808d1780"
      },
      "source": [
        "li"
      ],
      "execution_count": 12,
      "outputs": [
        {
          "output_type": "execute_result",
          "data": {
            "text/plain": [
              "['a', 'b', 'd', 'b']"
            ]
          },
          "metadata": {
            "tags": []
          },
          "execution_count": 12
        }
      ]
    },
    {
      "cell_type": "code",
      "metadata": {
        "id": "Z3ShyVTUmRQO",
        "colab_type": "code",
        "colab": {
          "base_uri": "https://localhost:8080/",
          "height": 35
        },
        "outputId": "4a6ef376-9b17-452e-a622-39bd59ae1396"
      },
      "source": [
        "li = [5, 2, 6, 8]\n",
        "li.reverse()\n",
        "li"
      ],
      "execution_count": 22,
      "outputs": [
        {
          "output_type": "execute_result",
          "data": {
            "text/plain": [
              "[8, 6, 2, 5]"
            ]
          },
          "metadata": {
            "tags": []
          },
          "execution_count": 22
        }
      ]
    },
    {
      "cell_type": "code",
      "metadata": {
        "id": "wW8LLIiKmlgG",
        "colab_type": "code",
        "colab": {
          "base_uri": "https://localhost:8080/",
          "height": 35
        },
        "outputId": "64a4c80d-6a46-4a4c-d9ce-07cc3b763544"
      },
      "source": [
        "li.sort()\n",
        "li"
      ],
      "execution_count": 23,
      "outputs": [
        {
          "output_type": "execute_result",
          "data": {
            "text/plain": [
              "[2, 5, 6, 8]"
            ]
          },
          "metadata": {
            "tags": []
          },
          "execution_count": 23
        }
      ]
    },
    {
      "cell_type": "code",
      "metadata": {
        "id": "GL-Wdqlimpzu",
        "colab_type": "code",
        "colab": {
          "base_uri": "https://localhost:8080/",
          "height": 35
        },
        "outputId": "bea49cbd-4767-4b73-cd44-6813ed2b3c7a"
      },
      "source": [
        "li.append('a')\n",
        "li"
      ],
      "execution_count": 24,
      "outputs": [
        {
          "output_type": "execute_result",
          "data": {
            "text/plain": [
              "[2, 5, 6, 8, 'a']"
            ]
          },
          "metadata": {
            "tags": []
          },
          "execution_count": 24
        }
      ]
    },
    {
      "cell_type": "code",
      "metadata": {
        "id": "RC-Up_JCm2ou",
        "colab_type": "code",
        "colab": {
          "base_uri": "https://localhost:8080/",
          "height": 35
        },
        "outputId": "d61c9314-a4b0-487d-da99-c1dca3a143df"
      },
      "source": [
        "li.insert(2,'i')\n",
        "li"
      ],
      "execution_count": 25,
      "outputs": [
        {
          "output_type": "execute_result",
          "data": {
            "text/plain": [
              "[2, 5, 'i', 6, 8, 'a']"
            ]
          },
          "metadata": {
            "tags": []
          },
          "execution_count": 25
        }
      ]
    },
    {
      "cell_type": "code",
      "metadata": {
        "id": "jIAuvheXm-BW",
        "colab_type": "code",
        "colab": {
          "base_uri": "https://localhost:8080/",
          "height": 35
        },
        "outputId": "db4bca3e-a1cd-46e9-f82b-6924d3949b6c"
      },
      "source": [
        "test = \"sdkb.nsafb,wekbdkf\"\n",
        "test.find(\",\")"
      ],
      "execution_count": 28,
      "outputs": [
        {
          "output_type": "execute_result",
          "data": {
            "text/plain": [
              "10"
            ]
          },
          "metadata": {
            "tags": []
          },
          "execution_count": 28
        }
      ]
    },
    {
      "cell_type": "code",
      "metadata": {
        "id": "arC9WV19p26X",
        "colab_type": "code",
        "colab": {
          "base_uri": "https://localhost:8080/",
          "height": 35
        },
        "outputId": "681510e3-4d49-4b0c-bc9d-02748220aa59"
      },
      "source": [
        "test.split(\"f\")"
      ],
      "execution_count": 29,
      "outputs": [
        {
          "output_type": "execute_result",
          "data": {
            "text/plain": [
              "['sdkb.nsa', 'b,wekbdk', '']"
            ]
          },
          "metadata": {
            "tags": []
          },
          "execution_count": 29
        }
      ]
    },
    {
      "cell_type": "code",
      "metadata": {
        "id": "jg2LyD0PqMAl",
        "colab_type": "code",
        "colab": {
          "base_uri": "https://localhost:8080/",
          "height": 35
        },
        "outputId": "bfe6b05a-b195-4710-ce22-9fabb6c3595c"
      },
      "source": [
        "if \"Br\" in \"Brother\":\n",
        "  print(\"Yes\")"
      ],
      "execution_count": 30,
      "outputs": [
        {
          "output_type": "stream",
          "text": [
            "Yes\n"
          ],
          "name": "stdout"
        }
      ]
    },
    {
      "cell_type": "code",
      "metadata": {
        "id": "LGOo0YHDrcO9",
        "colab_type": "code",
        "colab": {
          "base_uri": "https://localhost:8080/",
          "height": 35
        },
        "outputId": "de544339-eb02-4834-e0bb-10bd39396495"
      },
      "source": [
        "email = \"qfqwfw\"\n",
        "if \"@\" not in email:\n",
        "  email += \"@naver.com\"\n",
        "  print(email)"
      ],
      "execution_count": 32,
      "outputs": [
        {
          "output_type": "stream",
          "text": [
            "qfqwfw@naver.com\n"
          ],
          "name": "stdout"
        }
      ]
    },
    {
      "cell_type": "code",
      "metadata": {
        "id": "9vtWf_Q4rl-w",
        "colab_type": "code",
        "colab": {
          "base_uri": "https://localhost:8080/",
          "height": 107
        },
        "outputId": "01545288-7019-423c-e7f0-c15defdfe573"
      },
      "source": [
        "\n",
        "for i in range(5):\n",
        "  filenames = \"file_{}.npy\".format(i) # {}에 i가 반복해서 들어감 \n",
        "  print(filenames)"
      ],
      "execution_count": 34,
      "outputs": [
        {
          "output_type": "stream",
          "text": [
            "file_0.npy\n",
            "file_1.npy\n",
            "file_2.npy\n",
            "file_3.npy\n",
            "file_4.npy\n"
          ],
          "name": "stdout"
        }
      ]
    },
    {
      "cell_type": "code",
      "metadata": {
        "id": "SzAeVlaTstJc",
        "colab_type": "code",
        "colab": {}
      },
      "source": [
        "# index - memory 주소도 가지고 있어서 vs list - 주소 X "
      ],
      "execution_count": 0,
      "outputs": []
    },
    {
      "cell_type": "markdown",
      "metadata": {
        "id": "juz3YoMi0Mpj",
        "colab_type": "text"
      },
      "source": [
        "(1,2,3) + (4,5,6) = (1,2,3,4,5,6)\n",
        "[1,2,3] + [4,5,6] = [1,2,3,4,5,6]\n",
        "\"Hello\" * 3 \n",
        "'HelloHelloHello'"
      ]
    },
    {
      "cell_type": "code",
      "metadata": {
        "id": "kaDsQPlc0Ejw",
        "colab_type": "code",
        "colab": {}
      },
      "source": [
        ""
      ],
      "execution_count": 0,
      "outputs": []
    }
  ]
}
