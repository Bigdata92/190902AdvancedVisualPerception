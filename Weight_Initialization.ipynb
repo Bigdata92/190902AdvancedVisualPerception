{
  "nbformat": 4,
  "nbformat_minor": 0,
  "metadata": {
    "colab": {
      "name": "Weight Initialization.ipynb",
      "provenance": [],
      "collapsed_sections": []
    },
    "kernelspec": {
      "name": "python3",
      "display_name": "Python 3"
    }
  },
  "cells": [
    {
      "cell_type": "code",
      "metadata": {
        "id": "vclJIQzE0KBy",
        "colab_type": "code",
        "colab": {
          "base_uri": "https://localhost:8080/",
          "height": 35
        },
        "outputId": "cdda4426-328a-4488-9e67-d4d897e6e600"
      },
      "source": [
        "from __future__ import print_function\n",
        "\n",
        "import numpy as np\n",
        "import matplotlib.pyplot as plt\n",
        "import keras\n",
        "from keras.datasets import reuters\n",
        "from keras.models import Sequential\n",
        "from keras.layers import Dense, Activation, Dropout\n",
        "from keras.layers.noise import AlphaDropout\n",
        "from keras.preprocessing.text import Tokenizer\n",
        "\n",
        "max_words = 1000\n",
        "batch_size = 16\n",
        "epochs = 40\n",
        "plot = True"
      ],
      "execution_count": 1,
      "outputs": [
        {
          "output_type": "stream",
          "text": [
            "Using TensorFlow backend.\n"
          ],
          "name": "stderr"
        }
      ]
    },
    {
      "cell_type": "code",
      "metadata": {
        "id": "Qeg0JIRB0KlY",
        "colab_type": "code",
        "colab": {}
      },
      "source": [
        "def create_network(n_dense=6,\n",
        "                   dense_units=16,\n",
        "                   activation='selu',\n",
        "                   dropout=AlphaDropout,\n",
        "                   dropout_rate=0.1,\n",
        "                   kernel_initializer='lecun_normal',\n",
        "                   optimizer='adam',\n",
        "                   num_classes=1,\n",
        "                   max_words=max_words):\n",
        "    \"\"\"Generic function to create a fully-connected neural network.\n",
        "\n",
        "    # Arguments\n",
        "        n_dense: int > 0. Number of dense layers.\n",
        "        dense_units: int > 0. Number of dense units per layer.\n",
        "        dropout: keras.layers.Layer. A dropout layer to apply.\n",
        "        dropout_rate: 0 <= float <= 1. The rate of dropout.\n",
        "        kernel_initializer: str. The initializer for the weights.\n",
        "        optimizer: str/keras.optimizers.Optimizer. The optimizer to use.\n",
        "        num_classes: int > 0. The number of classes to predict.\n",
        "        max_words: int > 0. The maximum number of words per data point.\n",
        "\n",
        "    # Returns\n",
        "        A Keras model instance (compiled).\n",
        "    \"\"\"\n",
        "    model = Sequential()\n",
        "    model.add(Dense(dense_units, input_shape=(max_words,),\n",
        "                    kernel_initializer=kernel_initializer))\n",
        "    model.add(Activation(activation))\n",
        "    model.add(dropout(dropout_rate))\n",
        "\n",
        "    for i in range(n_dense - 1):\n",
        "        model.add(Dense(dense_units, kernel_initializer=kernel_initializer))\n",
        "        model.add(Activation(activation))\n",
        "        model.add(dropout(dropout_rate))\n",
        "\n",
        "    model.add(Dense(num_classes))\n",
        "    model.add(Activation('softmax'))\n",
        "    model.compile(loss='categorical_crossentropy',\n",
        "                  optimizer=optimizer,\n",
        "                  metrics=['accuracy'])\n",
        "    return model"
      ],
      "execution_count": 0,
      "outputs": []
    },
    {
      "cell_type": "code",
      "metadata": {
        "id": "GbNiVkiq0Ovo",
        "colab_type": "code",
        "colab": {}
      },
      "source": [
        "network1 = {\n",
        "    'n_dense': 6,\n",
        "    'dense_units': 16,\n",
        "    'activation': 'relu',\n",
        "    'dropout': Dropout,\n",
        "    'dropout_rate': 0.5,\n",
        "    'kernel_initializer': 'glorot_uniform',\n",
        "    'optimizer': 'sgd'\n",
        "}"
      ],
      "execution_count": 0,
      "outputs": []
    },
    {
      "cell_type": "code",
      "metadata": {
        "id": "MgeRwZ7m0Ru3",
        "colab_type": "code",
        "colab": {}
      },
      "source": [
        "network2 = {\n",
        "    'n_dense': 6,\n",
        "    'dense_units': 16,\n",
        "    'activation': 'selu',\n",
        "    'dropout': AlphaDropout,\n",
        "    'dropout_rate': 0.1,\n",
        "    'kernel_initializer': 'lecun_normal',\n",
        "    'optimizer': 'sgd'\n",
        "}"
      ],
      "execution_count": 0,
      "outputs": []
    },
    {
      "cell_type": "code",
      "metadata": {
        "id": "CqHepCjI0TMH",
        "colab_type": "code",
        "colab": {
          "base_uri": "https://localhost:8080/",
          "height": 106
        },
        "outputId": "dbfd8d81-9261-4a35-db8c-ed70f0ced0aa"
      },
      "source": [
        "print('Loading data...')\n",
        "(x_train, y_train), (x_test, y_test) = reuters.load_data(num_words=max_words,\n",
        "                                                         test_split=0.2)\n",
        "print(len(x_train), 'train sequences')\n",
        "print(len(x_test), 'test sequences')"
      ],
      "execution_count": 5,
      "outputs": [
        {
          "output_type": "stream",
          "text": [
            "Loading data...\n",
            "Downloading data from https://s3.amazonaws.com/text-datasets/reuters.npz\n",
            "2113536/2110848 [==============================] - 0s 0us/step\n",
            "8982 train sequences\n",
            "2246 test sequences\n"
          ],
          "name": "stdout"
        }
      ]
    },
    {
      "cell_type": "code",
      "metadata": {
        "id": "c_NsafCQ0V34",
        "colab_type": "code",
        "colab": {
          "base_uri": "https://localhost:8080/",
          "height": 88
        },
        "outputId": "93a52ff4-2b85-4940-f7ca-ac9cbe187aa2"
      },
      "source": [
        "num_classes = np.max(y_train) + 1\n",
        "print(num_classes, 'classes')\n",
        "\n",
        "print('Vectorizing sequence data...')\n",
        "tokenizer = Tokenizer(num_words=max_words)\n",
        "x_train = tokenizer.sequences_to_matrix(x_train, mode='binary')\n",
        "x_test = tokenizer.sequences_to_matrix(x_test, mode='binary')\n",
        "print('x_train shape:', x_train.shape)\n",
        "print('x_test shape:', x_test.shape)"
      ],
      "execution_count": 6,
      "outputs": [
        {
          "output_type": "stream",
          "text": [
            "46 classes\n",
            "Vectorizing sequence data...\n",
            "x_train shape: (8982, 1000)\n",
            "x_test shape: (2246, 1000)\n"
          ],
          "name": "stdout"
        }
      ]
    },
    {
      "cell_type": "code",
      "metadata": {
        "id": "a51I-Gm50f-I",
        "colab_type": "code",
        "colab": {
          "base_uri": "https://localhost:8080/",
          "height": 71
        },
        "outputId": "b29f1544-e2dd-4963-c00a-20fc1518f102"
      },
      "source": [
        "print('Convert class vector to binary class matrix '\n",
        "      '(for use with categorical_crossentropy)')\n",
        "y_train = keras.utils.to_categorical(y_train, num_classes)\n",
        "y_test = keras.utils.to_categorical(y_test, num_classes)\n",
        "print('y_train shape:', y_train.shape)\n",
        "print('y_test shape:', y_test.shape)"
      ],
      "execution_count": 7,
      "outputs": [
        {
          "output_type": "stream",
          "text": [
            "Convert class vector to binary class matrix (for use with categorical_crossentropy)\n",
            "y_train shape: (8982, 46)\n",
            "y_test shape: (2246, 46)\n"
          ],
          "name": "stdout"
        }
      ]
    },
    {
      "cell_type": "code",
      "metadata": {
        "id": "m31eMlLX0iQw",
        "colab_type": "code",
        "colab": {
          "base_uri": "https://localhost:8080/",
          "height": 1000
        },
        "outputId": "66dd0be6-76e1-4010-e885-77dcbd53540c"
      },
      "source": [
        "print('\\nBuilding network 1...')\n",
        "\n",
        "model1 = create_network(num_classes=num_classes, **network1)\n",
        "history_model1 = model1.fit(x_train,\n",
        "                            y_train,\n",
        "                            batch_size=batch_size,\n",
        "                            epochs=epochs,\n",
        "                            verbose=1,\n",
        "                            validation_split=0.1)\n",
        "\n",
        "score_model1 = model1.evaluate(x_test,\n",
        "                               y_test,\n",
        "                               batch_size=batch_size,\n",
        "                               verbose=1)"
      ],
      "execution_count": 8,
      "outputs": [
        {
          "output_type": "stream",
          "text": [
            "\n",
            "Building network 1...\n",
            "WARNING:tensorflow:From /usr/local/lib/python3.6/dist-packages/keras/backend/tensorflow_backend.py:66: The name tf.get_default_graph is deprecated. Please use tf.compat.v1.get_default_graph instead.\n",
            "\n",
            "WARNING:tensorflow:From /usr/local/lib/python3.6/dist-packages/keras/backend/tensorflow_backend.py:541: The name tf.placeholder is deprecated. Please use tf.compat.v1.placeholder instead.\n",
            "\n",
            "WARNING:tensorflow:From /usr/local/lib/python3.6/dist-packages/keras/backend/tensorflow_backend.py:4432: The name tf.random_uniform is deprecated. Please use tf.random.uniform instead.\n",
            "\n",
            "WARNING:tensorflow:From /usr/local/lib/python3.6/dist-packages/keras/backend/tensorflow_backend.py:148: The name tf.placeholder_with_default is deprecated. Please use tf.compat.v1.placeholder_with_default instead.\n",
            "\n",
            "WARNING:tensorflow:From /usr/local/lib/python3.6/dist-packages/keras/backend/tensorflow_backend.py:3733: calling dropout (from tensorflow.python.ops.nn_ops) with keep_prob is deprecated and will be removed in a future version.\n",
            "Instructions for updating:\n",
            "Please use `rate` instead of `keep_prob`. Rate should be set to `rate = 1 - keep_prob`.\n",
            "WARNING:tensorflow:From /usr/local/lib/python3.6/dist-packages/keras/optimizers.py:793: The name tf.train.Optimizer is deprecated. Please use tf.compat.v1.train.Optimizer instead.\n",
            "\n",
            "WARNING:tensorflow:From /usr/local/lib/python3.6/dist-packages/keras/backend/tensorflow_backend.py:3576: The name tf.log is deprecated. Please use tf.math.log instead.\n",
            "\n",
            "WARNING:tensorflow:From /usr/local/lib/python3.6/dist-packages/tensorflow/python/ops/math_grad.py:1250: add_dispatch_support.<locals>.wrapper (from tensorflow.python.ops.array_ops) is deprecated and will be removed in a future version.\n",
            "Instructions for updating:\n",
            "Use tf.where in 2.0, which has the same broadcast rule as np.where\n",
            "Train on 8083 samples, validate on 899 samples\n",
            "Epoch 1/40\n",
            "8083/8083 [==============================] - 2s 218us/step - loss: 3.2760 - acc: 0.3218 - val_loss: 2.6843 - val_acc: 0.3315\n",
            "Epoch 2/40\n",
            "8083/8083 [==============================] - 1s 110us/step - loss: 2.6532 - acc: 0.3483 - val_loss: 2.5167 - val_acc: 0.3315\n",
            "Epoch 3/40\n",
            "8083/8083 [==============================] - 1s 109us/step - loss: 2.5212 - acc: 0.3489 - val_loss: 2.3948 - val_acc: 0.3315\n",
            "Epoch 4/40\n",
            "8083/8083 [==============================] - 1s 114us/step - loss: 2.4284 - acc: 0.3516 - val_loss: 2.2842 - val_acc: 0.3315\n",
            "Epoch 5/40\n",
            "8083/8083 [==============================] - 1s 112us/step - loss: 2.3355 - acc: 0.3512 - val_loss: 2.2011 - val_acc: 0.3315\n",
            "Epoch 6/40\n",
            "8083/8083 [==============================] - 1s 109us/step - loss: 2.2800 - acc: 0.3588 - val_loss: 2.1393 - val_acc: 0.3704\n",
            "Epoch 7/40\n",
            "8083/8083 [==============================] - 1s 110us/step - loss: 2.2277 - acc: 0.4059 - val_loss: 2.1389 - val_acc: 0.4761\n",
            "Epoch 8/40\n",
            "8083/8083 [==============================] - 1s 108us/step - loss: 2.1964 - acc: 0.4288 - val_loss: 2.1177 - val_acc: 0.4883\n",
            "Epoch 9/40\n",
            "8083/8083 [==============================] - 1s 115us/step - loss: 2.1750 - acc: 0.4423 - val_loss: 2.0606 - val_acc: 0.4894\n",
            "Epoch 10/40\n",
            "8083/8083 [==============================] - 1s 112us/step - loss: 2.1442 - acc: 0.4465 - val_loss: 2.1287 - val_acc: 0.4627\n",
            "Epoch 11/40\n",
            "8083/8083 [==============================] - 1s 113us/step - loss: 2.1335 - acc: 0.4493 - val_loss: 2.0371 - val_acc: 0.4917\n",
            "Epoch 12/40\n",
            "8083/8083 [==============================] - 1s 110us/step - loss: 2.1106 - acc: 0.4540 - val_loss: 2.0252 - val_acc: 0.5028\n",
            "Epoch 13/40\n",
            "8083/8083 [==============================] - 1s 110us/step - loss: 2.0877 - acc: 0.4575 - val_loss: 2.0277 - val_acc: 0.4861\n",
            "Epoch 14/40\n",
            "8083/8083 [==============================] - 1s 107us/step - loss: 2.0991 - acc: 0.4566 - val_loss: 2.0008 - val_acc: 0.5039\n",
            "Epoch 15/40\n",
            "8083/8083 [==============================] - 1s 108us/step - loss: 2.0897 - acc: 0.4600 - val_loss: 1.9907 - val_acc: 0.5006\n",
            "Epoch 16/40\n",
            "8083/8083 [==============================] - 1s 110us/step - loss: 2.0585 - acc: 0.4673 - val_loss: 2.0828 - val_acc: 0.4994\n",
            "Epoch 17/40\n",
            "8083/8083 [==============================] - 1s 111us/step - loss: 2.0691 - acc: 0.4678 - val_loss: 2.0146 - val_acc: 0.5039\n",
            "Epoch 18/40\n",
            "8083/8083 [==============================] - 1s 108us/step - loss: 2.0422 - acc: 0.4717 - val_loss: 2.0015 - val_acc: 0.5050\n",
            "Epoch 19/40\n",
            "8083/8083 [==============================] - 1s 112us/step - loss: 2.1943 - acc: 0.4774 - val_loss: 2.1860 - val_acc: 0.4928\n",
            "Epoch 20/40\n",
            "8083/8083 [==============================] - 1s 113us/step - loss: 2.1262 - acc: 0.4947 - val_loss: 2.1002 - val_acc: 0.4994\n",
            "Epoch 21/40\n",
            "8083/8083 [==============================] - 1s 109us/step - loss: 2.0902 - acc: 0.4805 - val_loss: 2.0884 - val_acc: 0.5006\n",
            "Epoch 22/40\n",
            "8083/8083 [==============================] - 1s 110us/step - loss: 2.0641 - acc: 0.4934 - val_loss: 2.0456 - val_acc: 0.4905\n",
            "Epoch 23/40\n",
            "8083/8083 [==============================] - 1s 113us/step - loss: 2.1686 - acc: 0.4897 - val_loss: 2.2105 - val_acc: 0.5117\n",
            "Epoch 24/40\n",
            "8083/8083 [==============================] - 1s 115us/step - loss: 2.2449 - acc: 0.4975 - val_loss: 2.4642 - val_acc: 0.5050\n",
            "Epoch 25/40\n",
            "8083/8083 [==============================] - 1s 111us/step - loss: 2.2653 - acc: 0.4978 - val_loss: 2.1757 - val_acc: 0.4950\n",
            "Epoch 26/40\n",
            "8083/8083 [==============================] - 1s 109us/step - loss: 2.1662 - acc: 0.4842 - val_loss: 2.2030 - val_acc: 0.5017\n",
            "Epoch 27/40\n",
            "8083/8083 [==============================] - 1s 107us/step - loss: 2.1437 - acc: 0.4907 - val_loss: 2.1991 - val_acc: 0.5039\n",
            "Epoch 28/40\n",
            "8083/8083 [==============================] - 1s 110us/step - loss: 2.1354 - acc: 0.4909 - val_loss: 2.1750 - val_acc: 0.5095\n",
            "Epoch 29/40\n",
            "8083/8083 [==============================] - 1s 114us/step - loss: 2.1256 - acc: 0.4954 - val_loss: 2.1349 - val_acc: 0.5028\n",
            "Epoch 30/40\n",
            "8083/8083 [==============================] - 1s 108us/step - loss: 2.1013 - acc: 0.4924 - val_loss: 2.1103 - val_acc: 0.4905\n",
            "Epoch 31/40\n",
            "8083/8083 [==============================] - 1s 108us/step - loss: 2.1031 - acc: 0.4973 - val_loss: 2.0907 - val_acc: 0.4905\n",
            "Epoch 32/40\n",
            "8083/8083 [==============================] - 1s 109us/step - loss: 2.0930 - acc: 0.4923 - val_loss: 2.0442 - val_acc: 0.4883\n",
            "Epoch 33/40\n",
            "8083/8083 [==============================] - 1s 116us/step - loss: 2.0810 - acc: 0.4945 - val_loss: 2.0351 - val_acc: 0.4961\n",
            "Epoch 34/40\n",
            "8083/8083 [==============================] - 1s 121us/step - loss: 2.1654 - acc: 0.4881 - val_loss: 2.1015 - val_acc: 0.4939\n",
            "Epoch 35/40\n",
            "8083/8083 [==============================] - 1s 116us/step - loss: 2.1136 - acc: 0.5002 - val_loss: 2.0887 - val_acc: 0.5039\n",
            "Epoch 36/40\n",
            "8083/8083 [==============================] - 1s 115us/step - loss: 2.0893 - acc: 0.5008 - val_loss: 2.1123 - val_acc: 0.4950\n",
            "Epoch 37/40\n",
            "8083/8083 [==============================] - 1s 118us/step - loss: 2.0840 - acc: 0.4993 - val_loss: 2.0526 - val_acc: 0.4905\n",
            "Epoch 38/40\n",
            "8083/8083 [==============================] - 1s 119us/step - loss: 2.0798 - acc: 0.4961 - val_loss: 2.0285 - val_acc: 0.4883\n",
            "Epoch 39/40\n",
            "8083/8083 [==============================] - 1s 121us/step - loss: 2.0911 - acc: 0.4888 - val_loss: 2.1913 - val_acc: 0.5095\n",
            "Epoch 40/40\n",
            "8083/8083 [==============================] - 1s 118us/step - loss: 2.1336 - acc: 0.5036 - val_loss: 2.1391 - val_acc: 0.5095\n",
            "2246/2246 [==============================] - 0s 52us/step\n"
          ],
          "name": "stdout"
        }
      ]
    },
    {
      "cell_type": "code",
      "metadata": {
        "id": "rKASWpvg0lZY",
        "colab_type": "code",
        "colab": {
          "base_uri": "https://localhost:8080/",
          "height": 1000
        },
        "outputId": "57008f6d-5b3c-428b-d1c1-9a4689b0514d"
      },
      "source": [
        "print('\\nBuilding network 2...')\n",
        "model2 = create_network(num_classes=num_classes, **network2)\n",
        "\n",
        "history_model2 = model2.fit(x_train,\n",
        "                            y_train,\n",
        "                            batch_size=batch_size,\n",
        "                            epochs=epochs,\n",
        "                            verbose=1,\n",
        "                            validation_split=0.1)\n",
        "\n",
        "score_model2 = model2.evaluate(x_test,\n",
        "                               y_test,\n",
        "                               batch_size=batch_size,\n",
        "                               verbose=1)"
      ],
      "execution_count": 9,
      "outputs": [
        {
          "output_type": "stream",
          "text": [
            "\n",
            "Building network 2...\n",
            "Train on 8083 samples, validate on 899 samples\n",
            "Epoch 1/40\n",
            "8083/8083 [==============================] - 2s 199us/step - loss: 2.8498 - acc: 0.3386 - val_loss: 2.2786 - val_acc: 0.5039\n",
            "Epoch 2/40\n",
            "8083/8083 [==============================] - 1s 135us/step - loss: 2.2027 - acc: 0.4626 - val_loss: 1.9967 - val_acc: 0.5028\n",
            "Epoch 3/40\n",
            "8083/8083 [==============================] - 1s 131us/step - loss: 2.0283 - acc: 0.4966 - val_loss: 1.8737 - val_acc: 0.5628\n",
            "Epoch 4/40\n",
            "8083/8083 [==============================] - 1s 130us/step - loss: 1.9248 - acc: 0.5159 - val_loss: 1.8539 - val_acc: 0.5751\n",
            "Epoch 5/40\n",
            "8083/8083 [==============================] - 1s 131us/step - loss: 1.8569 - acc: 0.5359 - val_loss: 1.8616 - val_acc: 0.5806\n",
            "Epoch 6/40\n",
            "8083/8083 [==============================] - 1s 134us/step - loss: 1.8177 - acc: 0.5474 - val_loss: 1.8735 - val_acc: 0.5840\n",
            "Epoch 7/40\n",
            "8083/8083 [==============================] - 1s 130us/step - loss: 1.7882 - acc: 0.5545 - val_loss: 1.8494 - val_acc: 0.5862\n",
            "Epoch 8/40\n",
            "8083/8083 [==============================] - 1s 135us/step - loss: 1.7629 - acc: 0.5607 - val_loss: 1.8612 - val_acc: 0.5729\n",
            "Epoch 9/40\n",
            "8083/8083 [==============================] - 1s 140us/step - loss: 1.7455 - acc: 0.5594 - val_loss: 1.8376 - val_acc: 0.5962\n",
            "Epoch 10/40\n",
            "8083/8083 [==============================] - 1s 130us/step - loss: 1.7251 - acc: 0.5705 - val_loss: 1.8222 - val_acc: 0.5929\n",
            "Epoch 11/40\n",
            "8083/8083 [==============================] - 1s 133us/step - loss: 1.7061 - acc: 0.5723 - val_loss: 1.8036 - val_acc: 0.6007\n",
            "Epoch 12/40\n",
            "8083/8083 [==============================] - 1s 138us/step - loss: 1.6930 - acc: 0.5734 - val_loss: 1.7992 - val_acc: 0.5940\n",
            "Epoch 13/40\n",
            "8083/8083 [==============================] - 1s 134us/step - loss: 1.6797 - acc: 0.5796 - val_loss: 1.8111 - val_acc: 0.5929\n",
            "Epoch 14/40\n",
            "8083/8083 [==============================] - 1s 134us/step - loss: 1.6578 - acc: 0.5817 - val_loss: 1.8015 - val_acc: 0.6007\n",
            "Epoch 15/40\n",
            "8083/8083 [==============================] - 1s 131us/step - loss: 1.6511 - acc: 0.5821 - val_loss: 1.7872 - val_acc: 0.6007\n",
            "Epoch 16/40\n",
            "8083/8083 [==============================] - 1s 133us/step - loss: 1.6363 - acc: 0.5886 - val_loss: 1.7715 - val_acc: 0.6129\n",
            "Epoch 17/40\n",
            "8083/8083 [==============================] - 1s 137us/step - loss: 1.6302 - acc: 0.5905 - val_loss: 1.7776 - val_acc: 0.6051\n",
            "Epoch 18/40\n",
            "8083/8083 [==============================] - 1s 132us/step - loss: 1.6089 - acc: 0.5931 - val_loss: 1.7913 - val_acc: 0.6096\n",
            "Epoch 19/40\n",
            "8083/8083 [==============================] - 1s 133us/step - loss: 1.6063 - acc: 0.5973 - val_loss: 1.7536 - val_acc: 0.6185\n",
            "Epoch 20/40\n",
            "8083/8083 [==============================] - 1s 132us/step - loss: 1.5900 - acc: 0.6000 - val_loss: 1.7401 - val_acc: 0.6185\n",
            "Epoch 21/40\n",
            "8083/8083 [==============================] - 1s 138us/step - loss: 1.5812 - acc: 0.6003 - val_loss: 1.7323 - val_acc: 0.6118\n",
            "Epoch 22/40\n",
            "8083/8083 [==============================] - 1s 133us/step - loss: 1.5713 - acc: 0.6030 - val_loss: 1.7501 - val_acc: 0.6174\n",
            "Epoch 23/40\n",
            "8083/8083 [==============================] - 1s 131us/step - loss: 1.5621 - acc: 0.6009 - val_loss: 1.7330 - val_acc: 0.6229\n",
            "Epoch 24/40\n",
            "8083/8083 [==============================] - 1s 133us/step - loss: 1.5349 - acc: 0.6103 - val_loss: 1.7603 - val_acc: 0.6174\n",
            "Epoch 25/40\n",
            "8083/8083 [==============================] - 1s 133us/step - loss: 1.5435 - acc: 0.6066 - val_loss: 1.7582 - val_acc: 0.6207\n",
            "Epoch 26/40\n",
            "8083/8083 [==============================] - 1s 129us/step - loss: 1.5175 - acc: 0.6185 - val_loss: 1.7691 - val_acc: 0.6229\n",
            "Epoch 27/40\n",
            "8083/8083 [==============================] - 1s 133us/step - loss: 1.5077 - acc: 0.6120 - val_loss: 1.7086 - val_acc: 0.6174\n",
            "Epoch 28/40\n",
            "8083/8083 [==============================] - 1s 134us/step - loss: 1.5019 - acc: 0.6183 - val_loss: 1.6908 - val_acc: 0.6174\n",
            "Epoch 29/40\n",
            "8083/8083 [==============================] - 1s 134us/step - loss: 1.4896 - acc: 0.6193 - val_loss: 1.7197 - val_acc: 0.6174\n",
            "Epoch 30/40\n",
            "8083/8083 [==============================] - 1s 132us/step - loss: 1.4962 - acc: 0.6166 - val_loss: 1.6822 - val_acc: 0.6296\n",
            "Epoch 31/40\n",
            "8083/8083 [==============================] - 1s 132us/step - loss: 1.4658 - acc: 0.6250 - val_loss: 1.7349 - val_acc: 0.6285\n",
            "Epoch 32/40\n",
            "8083/8083 [==============================] - 1s 135us/step - loss: 1.4658 - acc: 0.6291 - val_loss: 1.7355 - val_acc: 0.6251\n",
            "Epoch 33/40\n",
            "8083/8083 [==============================] - 1s 135us/step - loss: 1.4560 - acc: 0.6254 - val_loss: 1.7345 - val_acc: 0.6229\n",
            "Epoch 34/40\n",
            "8083/8083 [==============================] - 1s 132us/step - loss: 1.4621 - acc: 0.6280 - val_loss: 1.7375 - val_acc: 0.6329\n",
            "Epoch 35/40\n",
            "8083/8083 [==============================] - 1s 130us/step - loss: 1.4381 - acc: 0.6333 - val_loss: 1.7516 - val_acc: 0.6140\n",
            "Epoch 36/40\n",
            "8083/8083 [==============================] - 1s 129us/step - loss: 1.4361 - acc: 0.6319 - val_loss: 1.7316 - val_acc: 0.6429\n",
            "Epoch 37/40\n",
            "8083/8083 [==============================] - 1s 129us/step - loss: 1.4161 - acc: 0.6379 - val_loss: 1.7972 - val_acc: 0.6218\n",
            "Epoch 38/40\n",
            "8083/8083 [==============================] - 1s 136us/step - loss: 1.4173 - acc: 0.6353 - val_loss: 1.8257 - val_acc: 0.6240\n",
            "Epoch 39/40\n",
            "8083/8083 [==============================] - 1s 133us/step - loss: 1.3960 - acc: 0.6407 - val_loss: 1.7746 - val_acc: 0.6340\n",
            "Epoch 40/40\n",
            "8083/8083 [==============================] - 1s 134us/step - loss: 1.3904 - acc: 0.6446 - val_loss: 1.6968 - val_acc: 0.6296\n",
            "2246/2246 [==============================] - 0s 55us/step\n"
          ],
          "name": "stdout"
        }
      ]
    },
    {
      "cell_type": "code",
      "metadata": {
        "id": "X53AE4pC0zbQ",
        "colab_type": "code",
        "colab": {
          "base_uri": "https://localhost:8080/",
          "height": 198
        },
        "outputId": "2a3fd54f-ddf1-4f15-a5f0-9c87cb666469"
      },
      "source": [
        "print('\\nNetwork 1 results')\n",
        "print('Hyperparameters:', network1)\n",
        "print('Test score:', score_model1[0])\n",
        "print('Test accuracy:', score_model1[1])\n",
        "print('Network 2 results')\n",
        "print('Hyperparameters:', network2)\n",
        "print('Test score:', score_model2[0])\n",
        "print('Test accuracy:', score_model2[1])\n"
      ],
      "execution_count": 10,
      "outputs": [
        {
          "output_type": "stream",
          "text": [
            "\n",
            "Network 1 results\n",
            "Hyperparameters: {'n_dense': 6, 'dense_units': 16, 'activation': 'relu', 'dropout': <class 'keras.layers.core.Dropout'>, 'dropout_rate': 0.5, 'kernel_initializer': 'glorot_uniform', 'optimizer': 'sgd'}\n",
            "Test score: 2.119191871194678\n",
            "Test accuracy: 0.523152270730011\n",
            "Network 2 results\n",
            "Hyperparameters: {'n_dense': 6, 'dense_units': 16, 'activation': 'selu', 'dropout': <class 'keras.layers.noise.AlphaDropout'>, 'dropout_rate': 0.1, 'kernel_initializer': 'lecun_normal', 'optimizer': 'sgd'}\n",
            "Test score: 1.6141814582600513\n",
            "Test accuracy: 0.6202137133211083\n"
          ],
          "name": "stdout"
        }
      ]
    },
    {
      "cell_type": "code",
      "metadata": {
        "id": "md8FHCIH0_PI",
        "colab_type": "code",
        "colab": {
          "base_uri": "https://localhost:8080/",
          "height": 283
        },
        "outputId": "eb979c1e-8019-4ce4-c280-dee3267a87ca"
      },
      "source": [
        "plt.plot(range(epochs),\n",
        "         history_model1.history['val_loss'],\n",
        "         'g-',\n",
        "         label='Network 1 Val Loss')\n",
        "plt.plot(range(epochs),\n",
        "         history_model2.history['val_loss'],\n",
        "         'r-',\n",
        "         label='Network 2 Val Loss')\n",
        "plt.plot(range(epochs),\n",
        "         history_model1.history['loss'],\n",
        "         'g--',\n",
        "         label='Network 1 Loss')\n",
        "plt.plot(range(epochs),\n",
        "         history_model2.history['loss'],\n",
        "         'r--',\n",
        "         label='Network 2 Loss')\n",
        "plt.xlabel('Epochs')\n",
        "plt.ylabel('Loss')\n",
        "plt.legend()\n",
        "plt.show()"
      ],
      "execution_count": 11,
      "outputs": [
        {
          "output_type": "display_data",
          "data": {
            "image/png": "[encoded data removed]",
            "text/plain": [
              "<Figure size 432x288 with 1 Axes>"
            ]
          },
          "metadata": {
            "tags": []
          }
        }
      ]
    },
    {
      "cell_type": "code",
      "metadata": {
        "id": "hmP31GT-1G7Y",
        "colab_type": "code",
        "colab": {}
      },
      "source": [
        ""
      ],
      "execution_count": 0,
      "outputs": []
    }
  ]
}