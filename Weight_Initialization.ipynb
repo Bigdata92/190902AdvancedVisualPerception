{
  "nbformat": 4,
  "nbformat_minor": 0,
  "metadata": {
    "colab": {
      "name": "Weight_Initialization.ipynb",
      "provenance": [],
      "collapsed_sections": [],
      "include_colab_link": true
    },
    "kernelspec": {
      "name": "python3",
      "display_name": "Python 3"
    },
    "accelerator": "GPU"
  },
  "cells": [
    {
      "cell_type": "markdown",
      "metadata": {
        "id": "view-in-github",
        "colab_type": "text"
      },
      "source": [
        "<a href=\"https://colab.research.google.com/github/Bigdata92/190902AdvancedVisualPerception/blob/master/Weight_Initialization.ipynb\" target=\"_parent\"><img src=\"https://colab.research.google.com/assets/colab-badge.svg\" alt=\"Open In Colab\"/></a>"
      ]
    },
    {
      "cell_type": "code",
      "metadata": {
        "id": "vclJIQzE0KBy",
        "colab_type": "code",
        "outputId": "9207017d-ee6a-4ae8-d484-a9cff1ce23a2",
        "colab": {
          "base_uri": "https://localhost:8080/",
          "height": 35
        }
      },
      "source": [
        "from __future__ import print_function\n",
        "\n",
        "import numpy as np\n",
        "import matplotlib.pyplot as plt\n",
        "import keras\n",
        "from keras.datasets import reuters\n",
        "from keras.models import Sequential\n",
        "from keras.layers import Dense, Activation, Dropout\n",
        "from keras.layers.noise import AlphaDropout\n",
        "from keras.preprocessing.text import Tokenizer\n",
        "\n",
        "max_words = 1000\n",
        "batch_size = 16\n",
        "epochs = 40\n",
        "plot = True"
      ],
      "execution_count": 1,
      "outputs": [
        {
          "output_type": "stream",
          "text": [
            "Using TensorFlow backend.\n"
          ],
          "name": "stderr"
        }
      ]
    },
    {
      "cell_type": "code",
      "metadata": {
        "id": "Qeg0JIRB0KlY",
        "colab_type": "code",
        "colab": {}
      },
      "source": [
        "def create_network(n_dense=6, #뉴런 개수\n",
        "                   dense_units=16,\n",
        "                   activation='selu',\n",
        "                   dropout=AlphaDropout,\n",
        "                   dropout_rate=0.1,\n",
        "                   kernel_initializer='lecun_normal',\n",
        "                   optimizer='adam',\n",
        "                   num_classes=1,\n",
        "                   max_words=max_words):\n",
        "    \"\"\"Generic function to create a fully-connected neural network.\n",
        "\n",
        "    # Arguments\n",
        "        n_dense: int > 0. Number of dense layers.\n",
        "        dense_units: int > 0. Number of dense units per layer.\n",
        "        dropout: keras.layers.Layer. A dropout layer to apply.\n",
        "        dropout_rate: 0 <= float <= 1. The rate of dropout.\n",
        "        kernel_initializer: str. The initializer for the weights.\n",
        "        optimizer: str/keras.optimizers.Optimizer. The optimizer to use.\n",
        "        num_classes: int > 0. The number of classes to predict.\n",
        "        max_words: int > 0. The maximum number of words per data point.\n",
        "\n",
        "    # Returns\n",
        "        A Keras model instance (compiled).\n",
        "    \"\"\"\n",
        "    model = Sequential()\n",
        "    model.add(Dense(dense_units, input_shape=(max_words,),\n",
        "                    kernel_initializer=kernel_initializer))\n",
        "    model.add(Activation(activation))\n",
        "    model.add(dropout(dropout_rate))\n",
        "\n",
        "    for i in range(n_dense - 1):\n",
        "        model.add(Dense(dense_units, kernel_initializer=kernel_initializer))\n",
        "        model.add(Activation(activation))\n",
        "        model.add(dropout(dropout_rate))\n",
        "\n",
        "    model.add(Dense(num_classes))\n",
        "    model.add(Activation('softmax'))\n",
        "    model.compile(loss='categorical_crossentropy',\n",
        "                  optimizer=optimizer,\n",
        "                  metrics=['accuracy'])\n",
        "    return model"
      ],
      "execution_count": 0,
      "outputs": []
    },
    {
      "cell_type": "code",
      "metadata": {
        "id": "GbNiVkiq0Ovo",
        "colab_type": "code",
        "colab": {}
      },
      "source": [
        "network1 = {\n",
        "    'n_dense': 6,\n",
        "    'dense_units': 16,\n",
        "    'activation': 'relu',\n",
        "    'dropout': Dropout,\n",
        "    'dropout_rate': 0.5,\n",
        "    'kernel_initializer': 'glorot_uniform',\n",
        "    'optimizer': 'sgd'\n",
        "}"
      ],
      "execution_count": 0,
      "outputs": []
    },
    {
      "cell_type": "code",
      "metadata": {
        "id": "MgeRwZ7m0Ru3",
        "colab_type": "code",
        "colab": {}
      },
      "source": [
        "network2 = {\n",
        "    'n_dense': 6,\n",
        "    'dense_units': 16,\n",
        "    'activation': 'selu',\n",
        "    'dropout': AlphaDropout,\n",
        "    'dropout_rate': 0.1,\n",
        "    'kernel_initializer': 'lecun_normal',\n",
        "    'optimizer': 'sgd'\n",
        "}"
      ],
      "execution_count": 0,
      "outputs": []
    },
    {
      "cell_type": "code",
      "metadata": {
        "id": "CqHepCjI0TMH",
        "colab_type": "code",
        "outputId": "93267f89-5872-48e5-f5a5-5b3164f1efee",
        "colab": {
          "base_uri": "https://localhost:8080/",
          "height": 107
        }
      },
      "source": [
        "print('Loading data...')\n",
        "(x_train, y_train), (x_test, y_test) = reuters.load_data(num_words=max_words,\n",
        "                                                         test_split=0.2)\n",
        "print(len(x_train), 'train sequences')\n",
        "print(len(x_test), 'test sequences')"
      ],
      "execution_count": 5,
      "outputs": [
        {
          "output_type": "stream",
          "text": [
            "Loading data...\n",
            "Downloading data from https://s3.amazonaws.com/text-datasets/reuters.npz\n",
            "2113536/2110848 [==============================] - 1s 0us/step\n",
            "8982 train sequences\n",
            "2246 test sequences\n"
          ],
          "name": "stdout"
        }
      ]
    },
    {
      "cell_type": "code",
      "metadata": {
        "id": "cuc6D_PPQPF7",
        "colab_type": "code",
        "colab": {
          "base_uri": "https://localhost:8080/",
          "height": 1000
        },
        "outputId": "72fc4ffd-eb7d-4e90-975a-22c98b2afca8"
      },
      "source": [
        "x_train[0]"
      ],
      "execution_count": 6,
      "outputs": [
        {
          "output_type": "execute_result",
          "data": {
            "text/plain": [
              "[1,\n",
              " 2,\n",
              " 2,\n",
              " 8,\n",
              " 43,\n",
              " 10,\n",
              " 447,\n",
              " 5,\n",
              " 25,\n",
              " 207,\n",
              " 270,\n",
              " 5,\n",
              " 2,\n",
              " 111,\n",
              " 16,\n",
              " 369,\n",
              " 186,\n",
              " 90,\n",
              " 67,\n",
              " 7,\n",
              " 89,\n",
              " 5,\n",
              " 19,\n",
              " 102,\n",
              " 6,\n",
              " 19,\n",
              " 124,\n",
              " 15,\n",
              " 90,\n",
              " 67,\n",
              " 84,\n",
              " 22,\n",
              " 482,\n",
              " 26,\n",
              " 7,\n",
              " 48,\n",
              " 4,\n",
              " 49,\n",
              " 8,\n",
              " 864,\n",
              " 39,\n",
              " 209,\n",
              " 154,\n",
              " 6,\n",
              " 151,\n",
              " 6,\n",
              " 83,\n",
              " 11,\n",
              " 15,\n",
              " 22,\n",
              " 155,\n",
              " 11,\n",
              " 15,\n",
              " 7,\n",
              " 48,\n",
              " 9,\n",
              " 2,\n",
              " 2,\n",
              " 504,\n",
              " 6,\n",
              " 258,\n",
              " 6,\n",
              " 272,\n",
              " 11,\n",
              " 15,\n",
              " 22,\n",
              " 134,\n",
              " 44,\n",
              " 11,\n",
              " 15,\n",
              " 16,\n",
              " 8,\n",
              " 197,\n",
              " 2,\n",
              " 90,\n",
              " 67,\n",
              " 52,\n",
              " 29,\n",
              " 209,\n",
              " 30,\n",
              " 32,\n",
              " 132,\n",
              " 6,\n",
              " 109,\n",
              " 15,\n",
              " 17,\n",
              " 12]"
            ]
          },
          "metadata": {
            "tags": []
          },
          "execution_count": 6
        }
      ]
    },
    {
      "cell_type": "code",
      "metadata": {
        "id": "ptFgrxAoQVwi",
        "colab_type": "code",
        "colab": {
          "base_uri": "https://localhost:8080/",
          "height": 35
        },
        "outputId": "c1eb9ca6-8414-4486-e691-94c5eec4b8eb"
      },
      "source": [
        "y_train[0] # return class "
      ],
      "execution_count": 8,
      "outputs": [
        {
          "output_type": "execute_result",
          "data": {
            "text/plain": [
              "3"
            ]
          },
          "metadata": {
            "tags": []
          },
          "execution_count": 8
        }
      ]
    },
    {
      "cell_type": "code",
      "metadata": {
        "id": "c_NsafCQ0V34",
        "colab_type": "code",
        "outputId": "470b6621-611f-4115-e1de-d4d0ff8f9280",
        "colab": {
          "base_uri": "https://localhost:8080/",
          "height": 89
        }
      },
      "source": [
        "num_classes = np.max(y_train) + 1\n",
        "print(num_classes, 'classes')\n",
        "\n",
        "print('Vectorizing sequence data...')\n",
        "tokenizer = Tokenizer(num_words=max_words)\n",
        "x_train = tokenizer.sequences_to_matrix(x_train, mode='binary')\n",
        "x_test = tokenizer.sequences_to_matrix(x_test, mode='binary')\n",
        "print('x_train shape:', x_train.shape)\n",
        "print('x_test shape:', x_test.shape)"
      ],
      "execution_count": 9,
      "outputs": [
        {
          "output_type": "stream",
          "text": [
            "46 classes\n",
            "Vectorizing sequence data...\n",
            "x_train shape: (8982, 1000)\n",
            "x_test shape: (2246, 1000)\n"
          ],
          "name": "stdout"
        }
      ]
    },
    {
      "cell_type": "code",
      "metadata": {
        "id": "a51I-Gm50f-I",
        "colab_type": "code",
        "outputId": "83e8b46d-24ef-4868-affe-ad15ec7becb6",
        "colab": {
          "base_uri": "https://localhost:8080/",
          "height": 71
        }
      },
      "source": [
        "print('Convert class vector to binary class matrix '\n",
        "      '(for use with categorical_crossentropy)')\n",
        "y_train = keras.utils.to_categorical(y_train, num_classes) # category로 change\n",
        "y_test = keras.utils.to_categorical(y_test, num_classes)\n",
        "print('y_train shape:', y_train.shape)\n",
        "print('y_test shape:', y_test.shape)"
      ],
      "execution_count": 10,
      "outputs": [
        {
          "output_type": "stream",
          "text": [
            "Convert class vector to binary class matrix (for use with categorical_crossentropy)\n",
            "y_train shape: (8982, 46)\n",
            "y_test shape: (2246, 46)\n"
          ],
          "name": "stdout"
        }
      ]
    },
    {
      "cell_type": "code",
      "metadata": {
        "id": "l8nZb84tQw76",
        "colab_type": "code",
        "colab": {
          "base_uri": "https://localhost:8080/",
          "height": 71
        },
        "outputId": "13113f1c-80db-4230-c24c-0153e3dd9959"
      },
      "source": [
        "y_train[0] # categorical을 통해 vector로 change"
      ],
      "execution_count": 11,
      "outputs": [
        {
          "output_type": "execute_result",
          "data": {
            "text/plain": [
              "array([0., 0., 0., 1., 0., 0., 0., 0., 0., 0., 0., 0., 0., 0., 0., 0., 0.,\n",
              "       0., 0., 0., 0., 0., 0., 0., 0., 0., 0., 0., 0., 0., 0., 0., 0., 0.,\n",
              "       0., 0., 0., 0., 0., 0., 0., 0., 0., 0., 0., 0.], dtype=float32)"
            ]
          },
          "metadata": {
            "tags": []
          },
          "execution_count": 11
        }
      ]
    },
    {
      "cell_type": "code",
      "metadata": {
        "id": "m31eMlLX0iQw",
        "colab_type": "code",
        "outputId": "da9fd504-cac2-419d-82bd-2ea17514c67a",
        "colab": {
          "base_uri": "https://localhost:8080/",
          "height": 1000
        }
      },
      "source": [
        "print('\\nBuilding network 1...') # network 학습 부분\n",
        "\n",
        "model1 = create_network(num_classes=num_classes, **network1)\n",
        "history_model1 = model1.fit(x_train,\n",
        "                            y_train,\n",
        "                            batch_size=batch_size,\n",
        "                            epochs=epochs,\n",
        "                            verbose=1, # training result show 여부\n",
        "                            validation_split=0.1) # ratio determination\n",
        "\n",
        "score_model1 = model1.evaluate(x_test, \n",
        "                               y_test,\n",
        "                               batch_size=batch_size,\n",
        "                               verbose=1)"
      ],
      "execution_count": 12,
      "outputs": [
        {
          "output_type": "stream",
          "text": [
            "\n",
            "Building network 1...\n",
            "WARNING:tensorflow:From /usr/local/lib/python3.6/dist-packages/keras/backend/tensorflow_backend.py:66: The name tf.get_default_graph is deprecated. Please use tf.compat.v1.get_default_graph instead.\n",
            "\n",
            "WARNING:tensorflow:From /usr/local/lib/python3.6/dist-packages/keras/backend/tensorflow_backend.py:541: The name tf.placeholder is deprecated. Please use tf.compat.v1.placeholder instead.\n",
            "\n",
            "WARNING:tensorflow:From /usr/local/lib/python3.6/dist-packages/keras/backend/tensorflow_backend.py:4432: The name tf.random_uniform is deprecated. Please use tf.random.uniform instead.\n",
            "\n",
            "WARNING:tensorflow:From /usr/local/lib/python3.6/dist-packages/keras/backend/tensorflow_backend.py:148: The name tf.placeholder_with_default is deprecated. Please use tf.compat.v1.placeholder_with_default instead.\n",
            "\n",
            "WARNING:tensorflow:From /usr/local/lib/python3.6/dist-packages/keras/backend/tensorflow_backend.py:3733: calling dropout (from tensorflow.python.ops.nn_ops) with keep_prob is deprecated and will be removed in a future version.\n",
            "Instructions for updating:\n",
            "Please use `rate` instead of `keep_prob`. Rate should be set to `rate = 1 - keep_prob`.\n",
            "WARNING:tensorflow:From /usr/local/lib/python3.6/dist-packages/keras/optimizers.py:793: The name tf.train.Optimizer is deprecated. Please use tf.compat.v1.train.Optimizer instead.\n",
            "\n",
            "WARNING:tensorflow:From /usr/local/lib/python3.6/dist-packages/keras/backend/tensorflow_backend.py:3576: The name tf.log is deprecated. Please use tf.math.log instead.\n",
            "\n",
            "WARNING:tensorflow:From /usr/local/lib/python3.6/dist-packages/tensorflow/python/ops/math_grad.py:1250: add_dispatch_support.<locals>.wrapper (from tensorflow.python.ops.array_ops) is deprecated and will be removed in a future version.\n",
            "Instructions for updating:\n",
            "Use tf.where in 2.0, which has the same broadcast rule as np.where\n",
            "Train on 8083 samples, validate on 899 samples\n",
            "Epoch 1/40\n",
            "8083/8083 [==============================] - 8s 986us/step - loss: 3.2992 - acc: 0.3311 - val_loss: 2.7541 - val_acc: 0.3315\n",
            "Epoch 2/40\n",
            "8083/8083 [==============================] - 2s 288us/step - loss: 2.7018 - acc: 0.3505 - val_loss: 2.5737 - val_acc: 0.3315\n",
            "Epoch 3/40\n",
            "8083/8083 [==============================] - 2s 298us/step - loss: 2.5750 - acc: 0.3522 - val_loss: 2.5062 - val_acc: 0.3315\n",
            "Epoch 4/40\n",
            "8083/8083 [==============================] - 2s 299us/step - loss: 2.5202 - acc: 0.3542 - val_loss: 2.4816 - val_acc: 0.3315\n",
            "Epoch 5/40\n",
            "8083/8083 [==============================] - 2s 303us/step - loss: 2.4925 - acc: 0.3538 - val_loss: 2.4731 - val_acc: 0.3315\n",
            "Epoch 6/40\n",
            "8083/8083 [==============================] - 2s 298us/step - loss: 2.4730 - acc: 0.3540 - val_loss: 2.4665 - val_acc: 0.3315\n",
            "Epoch 7/40\n",
            "8083/8083 [==============================] - 2s 305us/step - loss: 2.4555 - acc: 0.3538 - val_loss: 2.4549 - val_acc: 0.3315\n",
            "Epoch 8/40\n",
            "8083/8083 [==============================] - 2s 300us/step - loss: 2.4449 - acc: 0.3541 - val_loss: 2.4390 - val_acc: 0.3315\n",
            "Epoch 9/40\n",
            "8083/8083 [==============================] - 2s 298us/step - loss: 2.4240 - acc: 0.3541 - val_loss: 2.3961 - val_acc: 0.3315\n",
            "Epoch 10/40\n",
            "8083/8083 [==============================] - 2s 309us/step - loss: 2.3971 - acc: 0.3549 - val_loss: 2.3371 - val_acc: 0.3315\n",
            "Epoch 11/40\n",
            "8083/8083 [==============================] - 2s 296us/step - loss: 2.3454 - acc: 0.3589 - val_loss: 2.2544 - val_acc: 0.3315\n",
            "Epoch 12/40\n",
            "8083/8083 [==============================] - 2s 306us/step - loss: 2.3187 - acc: 0.3611 - val_loss: 2.2049 - val_acc: 0.3326\n",
            "Epoch 13/40\n",
            "8083/8083 [==============================] - 2s 301us/step - loss: 2.2720 - acc: 0.3626 - val_loss: 2.1642 - val_acc: 0.3337\n",
            "Epoch 14/40\n",
            "8083/8083 [==============================] - 2s 301us/step - loss: 2.2493 - acc: 0.3655 - val_loss: 2.1417 - val_acc: 0.3359\n",
            "Epoch 15/40\n",
            "8083/8083 [==============================] - 2s 293us/step - loss: 2.2013 - acc: 0.3724 - val_loss: 2.0934 - val_acc: 0.3404\n",
            "Epoch 16/40\n",
            "8083/8083 [==============================] - 2s 307us/step - loss: 2.1831 - acc: 0.3737 - val_loss: 2.0647 - val_acc: 0.3548\n",
            "Epoch 17/40\n",
            "8083/8083 [==============================] - 2s 299us/step - loss: 2.1661 - acc: 0.3755 - val_loss: 2.0725 - val_acc: 0.3448\n",
            "Epoch 18/40\n",
            "8083/8083 [==============================] - 2s 304us/step - loss: 2.1431 - acc: 0.3792 - val_loss: 2.0484 - val_acc: 0.3660\n",
            "Epoch 19/40\n",
            "8083/8083 [==============================] - 2s 289us/step - loss: 2.1244 - acc: 0.3803 - val_loss: 2.0371 - val_acc: 0.3760\n",
            "Epoch 20/40\n",
            "8083/8083 [==============================] - 2s 301us/step - loss: 2.0968 - acc: 0.3849 - val_loss: 2.0304 - val_acc: 0.3871\n",
            "Epoch 21/40\n",
            "8083/8083 [==============================] - 2s 303us/step - loss: 2.0899 - acc: 0.3850 - val_loss: 2.0255 - val_acc: 0.3849\n",
            "Epoch 22/40\n",
            "8083/8083 [==============================] - 2s 303us/step - loss: 2.0738 - acc: 0.3838 - val_loss: 2.0213 - val_acc: 0.3793\n",
            "Epoch 23/40\n",
            "8083/8083 [==============================] - 2s 300us/step - loss: 2.0656 - acc: 0.3855 - val_loss: 2.0086 - val_acc: 0.3893\n",
            "Epoch 24/40\n",
            "8083/8083 [==============================] - 3s 312us/step - loss: 2.0609 - acc: 0.3870 - val_loss: 2.0078 - val_acc: 0.3949\n",
            "Epoch 25/40\n",
            "8083/8083 [==============================] - 2s 300us/step - loss: 2.0458 - acc: 0.3860 - val_loss: 2.0008 - val_acc: 0.3927\n",
            "Epoch 26/40\n",
            "8083/8083 [==============================] - 2s 295us/step - loss: 2.0751 - acc: 0.3843 - val_loss: 2.0002 - val_acc: 0.3893\n",
            "Epoch 27/40\n",
            "8083/8083 [==============================] - 2s 300us/step - loss: 2.0420 - acc: 0.3875 - val_loss: 2.0208 - val_acc: 0.3693\n",
            "Epoch 28/40\n",
            "8083/8083 [==============================] - 3s 314us/step - loss: 2.0266 - acc: 0.3864 - val_loss: 1.9873 - val_acc: 0.3904\n",
            "Epoch 29/40\n",
            "8083/8083 [==============================] - 3s 329us/step - loss: 2.0213 - acc: 0.3885 - val_loss: 2.0049 - val_acc: 0.3893\n",
            "Epoch 30/40\n",
            "8083/8083 [==============================] - 2s 298us/step - loss: 2.0380 - acc: 0.3851 - val_loss: 2.0121 - val_acc: 0.3893\n",
            "Epoch 31/40\n",
            "8083/8083 [==============================] - 2s 307us/step - loss: 2.0048 - acc: 0.3908 - val_loss: 1.9880 - val_acc: 0.3938\n",
            "Epoch 32/40\n",
            "8083/8083 [==============================] - 2s 302us/step - loss: 1.9965 - acc: 0.3902 - val_loss: 1.9920 - val_acc: 0.3882\n",
            "Epoch 33/40\n",
            "8083/8083 [==============================] - 2s 302us/step - loss: 2.0073 - acc: 0.3895 - val_loss: 1.9892 - val_acc: 0.3915\n",
            "Epoch 34/40\n",
            "8083/8083 [==============================] - 2s 297us/step - loss: 2.0051 - acc: 0.3924 - val_loss: 2.0016 - val_acc: 0.3893\n",
            "Epoch 35/40\n",
            "8083/8083 [==============================] - 3s 310us/step - loss: 1.9884 - acc: 0.3907 - val_loss: 1.9849 - val_acc: 0.3960\n",
            "Epoch 36/40\n",
            "8083/8083 [==============================] - 2s 297us/step - loss: 1.9950 - acc: 0.3917 - val_loss: 1.9876 - val_acc: 0.3960\n",
            "Epoch 37/40\n",
            "8083/8083 [==============================] - 2s 298us/step - loss: 1.9766 - acc: 0.3923 - val_loss: 1.9802 - val_acc: 0.3915\n",
            "Epoch 38/40\n",
            "8083/8083 [==============================] - 2s 293us/step - loss: 1.9686 - acc: 0.3952 - val_loss: 1.9863 - val_acc: 0.3915\n",
            "Epoch 39/40\n",
            "8083/8083 [==============================] - 2s 305us/step - loss: 1.9770 - acc: 0.3922 - val_loss: 1.9882 - val_acc: 0.3904\n",
            "Epoch 40/40\n",
            "8083/8083 [==============================] - 2s 303us/step - loss: 1.9768 - acc: 0.3958 - val_loss: 1.9879 - val_acc: 0.3915\n",
            "2246/2246 [==============================] - 0s 95us/step\n"
          ],
          "name": "stdout"
        }
      ]
    },
    {
      "cell_type": "code",
      "metadata": {
        "id": "rKASWpvg0lZY",
        "colab_type": "code",
        "outputId": "617624e2-1711-4200-8eef-17c0c2e13127",
        "colab": {
          "base_uri": "https://localhost:8080/",
          "height": 1000
        }
      },
      "source": [
        "print('\\nBuilding network 2...')\n",
        "model2 = create_network(num_classes=num_classes, **network2)\n",
        "\n",
        "history_model2 = model2.fit(x_train,\n",
        "                            y_train,\n",
        "                            batch_size=batch_size,\n",
        "                            epochs=epochs,\n",
        "                            verbose=1,\n",
        "                            validation_split=0.1)\n",
        "\n",
        "score_model2 = model2.evaluate(x_test,\n",
        "                               y_test,\n",
        "                               batch_size=batch_size,\n",
        "                               verbose=1)"
      ],
      "execution_count": 13,
      "outputs": [
        {
          "output_type": "stream",
          "text": [
            "\n",
            "Building network 2...\n",
            "Train on 8083 samples, validate on 899 samples\n",
            "Epoch 1/40\n",
            "8083/8083 [==============================] - 3s 413us/step - loss: 2.8792 - acc: 0.2881 - val_loss: 2.6965 - val_acc: 0.3348\n",
            "Epoch 2/40\n",
            "8083/8083 [==============================] - 3s 353us/step - loss: 2.3326 - acc: 0.3999 - val_loss: 2.0541 - val_acc: 0.5239\n",
            "Epoch 3/40\n",
            "8083/8083 [==============================] - 3s 354us/step - loss: 2.0949 - acc: 0.4537 - val_loss: 1.9246 - val_acc: 0.5317\n",
            "Epoch 4/40\n",
            "8083/8083 [==============================] - 3s 358us/step - loss: 1.9727 - acc: 0.4978 - val_loss: 1.9188 - val_acc: 0.5628\n",
            "Epoch 5/40\n",
            "8083/8083 [==============================] - 3s 354us/step - loss: 1.8997 - acc: 0.5131 - val_loss: 1.8972 - val_acc: 0.5717\n",
            "Epoch 6/40\n",
            "8083/8083 [==============================] - 3s 355us/step - loss: 1.8370 - acc: 0.5335 - val_loss: 1.8456 - val_acc: 0.5751\n",
            "Epoch 7/40\n",
            "8083/8083 [==============================] - 3s 349us/step - loss: 1.7911 - acc: 0.5400 - val_loss: 1.8510 - val_acc: 0.5907\n",
            "Epoch 8/40\n",
            "8083/8083 [==============================] - 3s 360us/step - loss: 1.7523 - acc: 0.5562 - val_loss: 1.8335 - val_acc: 0.5907\n",
            "Epoch 9/40\n",
            "8083/8083 [==============================] - 3s 356us/step - loss: 1.7358 - acc: 0.5557 - val_loss: 1.7936 - val_acc: 0.5996\n",
            "Epoch 10/40\n",
            "8083/8083 [==============================] - 3s 348us/step - loss: 1.7189 - acc: 0.5609 - val_loss: 1.8480 - val_acc: 0.5940\n",
            "Epoch 11/40\n",
            "8083/8083 [==============================] - 3s 353us/step - loss: 1.7022 - acc: 0.5603 - val_loss: 1.7960 - val_acc: 0.5884\n",
            "Epoch 12/40\n",
            "8083/8083 [==============================] - 3s 355us/step - loss: 1.6893 - acc: 0.5665 - val_loss: 1.7821 - val_acc: 0.5929\n",
            "Epoch 13/40\n",
            "8083/8083 [==============================] - 3s 345us/step - loss: 1.6643 - acc: 0.5757 - val_loss: 1.7955 - val_acc: 0.5829\n",
            "Epoch 14/40\n",
            "8083/8083 [==============================] - 3s 372us/step - loss: 1.6568 - acc: 0.5737 - val_loss: 1.7149 - val_acc: 0.6018\n",
            "Epoch 15/40\n",
            "8083/8083 [==============================] - 3s 370us/step - loss: 1.6386 - acc: 0.5891 - val_loss: 1.7395 - val_acc: 0.6151\n",
            "Epoch 16/40\n",
            "8083/8083 [==============================] - 3s 372us/step - loss: 1.6262 - acc: 0.5837 - val_loss: 1.7408 - val_acc: 0.6051\n",
            "Epoch 17/40\n",
            "8083/8083 [==============================] - 3s 353us/step - loss: 1.6077 - acc: 0.5877 - val_loss: 1.7485 - val_acc: 0.6051\n",
            "Epoch 18/40\n",
            "8083/8083 [==============================] - 3s 343us/step - loss: 1.6025 - acc: 0.5870 - val_loss: 1.7147 - val_acc: 0.6096\n",
            "Epoch 19/40\n",
            "8083/8083 [==============================] - 3s 348us/step - loss: 1.5917 - acc: 0.5931 - val_loss: 1.7195 - val_acc: 0.6118\n",
            "Epoch 20/40\n",
            "8083/8083 [==============================] - 3s 345us/step - loss: 1.5784 - acc: 0.5968 - val_loss: 1.7054 - val_acc: 0.6240\n",
            "Epoch 21/40\n",
            "8083/8083 [==============================] - 3s 350us/step - loss: 1.5647 - acc: 0.6005 - val_loss: 1.6838 - val_acc: 0.6207\n",
            "Epoch 22/40\n",
            "8083/8083 [==============================] - 3s 359us/step - loss: 1.5622 - acc: 0.6018 - val_loss: 1.7279 - val_acc: 0.6229\n",
            "Epoch 23/40\n",
            "8083/8083 [==============================] - 3s 351us/step - loss: 1.5432 - acc: 0.6062 - val_loss: 1.6683 - val_acc: 0.6174\n",
            "Epoch 24/40\n",
            "8083/8083 [==============================] - 3s 345us/step - loss: 1.5351 - acc: 0.6110 - val_loss: 1.7215 - val_acc: 0.6140\n",
            "Epoch 25/40\n",
            "8083/8083 [==============================] - 3s 358us/step - loss: 1.5329 - acc: 0.6083 - val_loss: 1.6665 - val_acc: 0.6318\n",
            "Epoch 26/40\n",
            "8083/8083 [==============================] - 3s 365us/step - loss: 1.5159 - acc: 0.6178 - val_loss: 1.6742 - val_acc: 0.6385\n",
            "Epoch 27/40\n",
            "8083/8083 [==============================] - 3s 361us/step - loss: 1.5117 - acc: 0.6139 - val_loss: 1.6731 - val_acc: 0.6340\n",
            "Epoch 28/40\n",
            "8083/8083 [==============================] - 3s 361us/step - loss: 1.5083 - acc: 0.6164 - val_loss: 1.6841 - val_acc: 0.6329\n",
            "Epoch 29/40\n",
            "8083/8083 [==============================] - 3s 345us/step - loss: 1.4766 - acc: 0.6194 - val_loss: 1.6646 - val_acc: 0.6352\n",
            "Epoch 30/40\n",
            "8083/8083 [==============================] - 3s 351us/step - loss: 1.4800 - acc: 0.6225 - val_loss: 1.6719 - val_acc: 0.6385\n",
            "Epoch 31/40\n",
            "8083/8083 [==============================] - 3s 364us/step - loss: 1.4759 - acc: 0.6290 - val_loss: 1.6275 - val_acc: 0.6496\n",
            "Epoch 32/40\n",
            "8083/8083 [==============================] - 3s 358us/step - loss: 1.4506 - acc: 0.6336 - val_loss: 1.6729 - val_acc: 0.6529\n",
            "Epoch 33/40\n",
            "8083/8083 [==============================] - 3s 365us/step - loss: 1.4373 - acc: 0.6350 - val_loss: 1.6286 - val_acc: 0.6618\n",
            "Epoch 34/40\n",
            "8083/8083 [==============================] - 3s 365us/step - loss: 1.4250 - acc: 0.6389 - val_loss: 1.5915 - val_acc: 0.6574\n",
            "Epoch 35/40\n",
            "8083/8083 [==============================] - 3s 357us/step - loss: 1.4217 - acc: 0.6397 - val_loss: 1.5697 - val_acc: 0.6663\n",
            "Epoch 36/40\n",
            "8083/8083 [==============================] - 3s 362us/step - loss: 1.4063 - acc: 0.6413 - val_loss: 1.5858 - val_acc: 0.6674\n",
            "Epoch 37/40\n",
            "8083/8083 [==============================] - 3s 357us/step - loss: 1.3946 - acc: 0.6469 - val_loss: 1.5607 - val_acc: 0.6696\n",
            "Epoch 38/40\n",
            "8083/8083 [==============================] - 3s 357us/step - loss: 1.4002 - acc: 0.6475 - val_loss: 1.6054 - val_acc: 0.6630\n",
            "Epoch 39/40\n",
            "8083/8083 [==============================] - 3s 352us/step - loss: 1.3692 - acc: 0.6552 - val_loss: 1.5747 - val_acc: 0.6752\n",
            "Epoch 40/40\n",
            "8083/8083 [==============================] - 3s 362us/step - loss: 1.3700 - acc: 0.6588 - val_loss: 1.5369 - val_acc: 0.6841\n",
            "2246/2246 [==============================] - 0s 115us/step\n"
          ],
          "name": "stdout"
        }
      ]
    },
    {
      "cell_type": "code",
      "metadata": {
        "id": "X53AE4pC0zbQ",
        "colab_type": "code",
        "outputId": "2d8cf13d-3da8-49bd-9b38-f943d731eecb",
        "colab": {
          "base_uri": "https://localhost:8080/",
          "height": 179
        }
      },
      "source": [
        "print('\\nNetwork 1 results')\n",
        "print('Hyperparameters:', network1)\n",
        "print('Test score:', score_model1[0])\n",
        "print('Test accuracy:', score_model1[1])\n",
        "print('Network 2 results')\n",
        "print('Hyperparameters:', network2)\n",
        "print('Test score:', score_model2[0])\n",
        "print('Test accuracy:', score_model2[1])\n"
      ],
      "execution_count": 14,
      "outputs": [
        {
          "output_type": "stream",
          "text": [
            "\n",
            "Network 1 results\n",
            "Hyperparameters: {'n_dense': 6, 'dense_units': 16, 'activation': 'relu', 'dropout': <class 'keras.layers.core.Dropout'>, 'dropout_rate': 0.5, 'kernel_initializer': 'glorot_uniform', 'optimizer': 'sgd'}\n",
            "Test score: 1.9331638880956417\n",
            "Test accuracy: 0.4096170971145188\n",
            "Network 2 results\n",
            "Hyperparameters: {'n_dense': 6, 'dense_units': 16, 'activation': 'selu', 'dropout': <class 'keras.layers.noise.AlphaDropout'>, 'dropout_rate': 0.1, 'kernel_initializer': 'lecun_normal', 'optimizer': 'sgd'}\n",
            "Test score: 1.5060488593864951\n",
            "Test accuracy: 0.6647373108012488\n"
          ],
          "name": "stdout"
        }
      ]
    },
    {
      "cell_type": "code",
      "metadata": {
        "id": "md8FHCIH0_PI",
        "colab_type": "code",
        "outputId": "ee69ad92-3a09-481e-d9ce-a6831e6e32b5",
        "colab": {
          "base_uri": "https://localhost:8080/",
          "height": 283
        }
      },
      "source": [
        "plt.plot(range(epochs),\n",
        "         history_model1.history['val_loss'], #동일하게 주어도 activation fun 에 따라 Network value difference exists\n",
        "         'g-',\n",
        "         label='Network 1 Val Loss')\n",
        "plt.plot(range(epochs),\n",
        "         history_model2.history['val_loss'],\n",
        "         'r-',\n",
        "         label='Network 2 Val Loss')\n",
        "plt.plot(range(epochs),\n",
        "         history_model1.history['loss'],\n",
        "         'g--',\n",
        "         label='Network 1 Loss')\n",
        "plt.plot(range(epochs),\n",
        "         history_model2.history['loss'],\n",
        "         'r--',\n",
        "         label='Network 2 Loss')\n",
        "plt.xlabel('Epochs')\n",
        "plt.ylabel('Loss')\n",
        "plt.legend()\n",
        "plt.show()"
      ],
      "execution_count": 15,
      "outputs": [
        {
          "output_type": "display_data",
          "data": {
            "image/png": "[encoded data removed]",
            "text/plain": [
              "<Figure size 432x288 with 1 Axes>"
            ]
          },
          "metadata": {
            "tags": []
          }
        }
      ]
    },
    {
      "cell_type": "code",
      "metadata": {
        "id": "hmP31GT-1G7Y",
        "colab_type": "code",
        "colab": {}
      },
      "source": [
        ""
      ],
      "execution_count": 0,
      "outputs": []
    }
  ]
}